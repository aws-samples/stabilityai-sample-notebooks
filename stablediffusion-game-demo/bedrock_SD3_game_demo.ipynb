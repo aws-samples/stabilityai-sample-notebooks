{
 "cells": [
  {
   "cell_type": "markdown",
   "metadata": {},
   "source": [
    "# Amazon Bedrock and Stability.ai Stable Diffusion 3.5 Demo\n",
    "\n",
    "In this notebook we will learn how to use the AWS SDK for Python (Boto3) to create gaming assets using [Amazon Bedrock](https://aws.amazon.com/bedrock/) and [Stability.ai](https://stability.ai/stable-image) Stable Diffusion 3.5 model, with the help of [Anthropic Claude 3](https://www.anthropic.com/claude).  By leveraging Stability AI's capabilities, organizations can address practical gaming needs, from concept art and character design to level creation and marketing campaigns. However, it is essential to approach this technology with a responsible and ethical mindset, considering potential biases, respecting intellectual property rights, and mitigating the risks of misuse.\n",
    "\n",
    "It demonstrates how to produce a series of images using LLM refined prompts for a game called “Mystic Realms”. By combining the ideation capabilities of LLMs with advanced image generation, this workflow empowers gaming teams to produce early stage high-quality, tailored visual assets that resonate with their target audience more efficiently than ever before. By embracing these models while being aware of their limitations and ethical considerations, gaming professionals can push the boundaries of what’s possible in game design and visual content creation.\n",
    "\n",
    "\n",
    "Technologies:\n",
    "\n",
    "- **Amazon Bedrock**: Amazon Bedrock is a fully managed service that offers a choice of high-performing foundation models (FMs) from leading AI companies like AI21 Labs, Anthropic, Cohere, Meta, Mistral AI, Stability AI, and Amazon via a single API\n",
    "\n",
    "- **Stable Diffusion 3 Models**: Stable Diffusion 3.5 Large (SD3.5 Large), available through Amazon Bedrock, is Stability AI's most advanced text-to-image model to date. With 8.1 billion parameters, this model excels at generating high-quality, 1-megapixel images from text descriptions, making it ideal for creating detailed game environments at speed. Its improved architecture, based on the Multimodal Diffusion Transformer (MMDiT), combines multiple pretrained text encoders for enhanced text understanding and utilizes QK-normalization to improve training stability.\n",
    "\n",
    "- **Anthropic Claude 3 Model**: Claude3 is a family of state-of-the-art large language models developed by Anthropic, offering 200k context window.\n",
    "\n"
   ]
  },
  {
   "cell_type": "markdown",
   "metadata": {},
   "source": [
    "## Prerequisites\n"
   ]
  },
  {
   "cell_type": "markdown",
   "metadata": {},
   "source": [
    "### Python Environment\n",
    "\n",
    "Create a virtual Python environment and install the required packages.\n"
   ]
  },
  {
   "cell_type": "code",
   "execution_count": 19,
   "metadata": {
    "tags": [],
    "vscode": {
     "languageId": "shellscript"
    }
   },
   "outputs": [
    {
     "name": "stderr",
     "output_type": "stream",
     "text": [
      "\u001b[33mWARNING: Running pip as the 'root' user can result in broken permissions and conflicting behaviour with the system package manager. It is recommended to use a virtual environment instead: https://pip.pypa.io/warnings/venv\u001b[0m\u001b[33m\n",
      "\u001b[0m"
     ]
    }
   ],
   "source": [
    "%%sh\n",
    "# Install Python requirements\n",
    "python3 -m pip install -r requirements.txt -Uq"
   ]
  },
  {
   "cell_type": "markdown",
   "metadata": {},
   "source": [
    "### Authenticate with Your AWS Credentials\n",
    "\n",
    "Your method of authentication may vary depending on your environment.\n"
   ]
  },
  {
   "cell_type": "code",
   "execution_count": 20,
   "metadata": {
    "tags": []
   },
   "outputs": [],
   "source": [
    "# Authenticate with AWS using your credentials\n",
    "\n",
    "import os\n",
    "\n",
    "# os.environ[\"AWS_ACCESS_KEY_ID\"] = \"\"\n",
    "# os.environ[\"AWS_SECRET_ACCESS_KEY\"] = \"\"\n",
    "# os.environ[\"AWS_SESSION_TOKEN\"] = \"\""
   ]
  },
  {
   "cell_type": "markdown",
   "metadata": {},
   "source": [
    "## Define functions\n",
    "Define the text-to-image, image-to-image and other utility functions"
   ]
  },
  {
   "cell_type": "code",
   "execution_count": 21,
   "metadata": {
    "tags": []
   },
   "outputs": [],
   "source": [
    "import base64\n",
    "import io\n",
    "import json\n",
    "import logging\n",
    "import boto3\n",
    "from PIL import Image\n",
    "import time\n",
    "from enum import Enum, unique\n",
    "\n",
    "from botocore.exceptions import ClientError\n",
    "\n",
    "GENERATED_IMAGES = \"./generated_images\"\n"
   ]
  },
  {
   "cell_type": "code",
   "execution_count": 22,
   "metadata": {
    "tags": []
   },
   "outputs": [],
   "source": [
    "# Amazon Bedrock Model ID used throughout this notebook\n",
    "# Model IDs: https://docs.aws.amazon.com/bedrock/latest/userguide/model-ids.html#model-ids-arns\n",
    "MODEL_ID = \"stability.sd3-5-large-v1:0\" \n"
   ]
  },
  {
   "cell_type": "code",
   "execution_count": 23,
   "metadata": {
    "tags": []
   },
   "outputs": [],
   "source": [
    "directory = \"./generated_images\"\n",
    "if not os.path.exists(directory):\n",
    "    os.makedirs(directory)"
   ]
  },
  {
   "cell_type": "markdown",
   "metadata": {
    "tags": []
   },
   "source": [
    "### Define text to image function"
   ]
  },
  {
   "cell_type": "code",
   "execution_count": 24,
   "metadata": {
    "tags": []
   },
   "outputs": [],
   "source": [
    "# Copyright Amazon.com, Inc. or its affiliates. All Rights Reserved.\n",
    "# SPDX-License-Identifier: Apache-2.0\n",
    "\"\"\"\n",
    "Shows how to generate an image with SD3.5 Large\n",
    "\"\"\"\n",
    "\n",
    "class ImageError(Exception):\n",
    "    \"\"\"\n",
    "    Custom exception for errors returned by SD3.5 Large\n",
    "    \"\"\"\n",
    "\n",
    "    def __init__(self, message):\n",
    "        self.message = message\n",
    "\n",
    "\n",
    "# Set up logging for notebook environment\n",
    "logger = logging.getLogger(__name__)\n",
    "if logger.hasHandlers():\n",
    "    logger.handlers.clear()\n",
    "handler = logging.StreamHandler()\n",
    "logger.addHandler(handler)\n",
    "formatter = logging.Formatter(\"%(asctime)s - %(levelname)s - %(message)s\")\n",
    "handler.setFormatter(formatter)\n",
    "logger.setLevel(logging.INFO)\n",
    "\n",
    "\n",
    "def generate_image_from_text(model_id, body):\n",
    "    \"\"\"\n",
    "    Generate an image using SD3.5 Large on demand.\n",
    "    Args:\n",
    "        model_id (str): The model ID to use.\n",
    "        body (str) : The request body to use.\n",
    "    Returns:\n",
    "        image_bytes (bytes): The image generated by the model.\n",
    "    \"\"\"\n",
    "\n",
    "    logger.info(\"Generating image with SD3.5 Large model %s\", model_id)\n",
    "\n",
    "    bedrock = boto3.client(\"bedrock-runtime\", region_name=\"us-west-2\")\n",
    "    \n",
    "    response = bedrock.invoke_model(modelId=model_id,body=body)\n",
    "    response_body= json.loads(response[\"body\"].read())\n",
    "    image_data = base64.b64decode(response_body.get(\"images\")[0])\n",
    "\n",
    "    logger.info(\"Successfully generated image with the SD3.5 Large model %s\", model_id)\n",
    "    return image_data\n",
    "\n",
    "def text_to_image_request(\n",
    "    model_id,\n",
    "    positive_prompt,\n",
    "    # negative_prompt,\n",
    "    save_image_path=None,\n",
    "    seed=1664300763\n",
    "):\n",
    "    \"\"\"\n",
    "    Args:\n",
    "        model_id (str): The model ID to use.\n",
    "        positive_prompt (str): The positive prompt to use.\n",
    "    \"\"\"\n",
    "    \n",
    "    # Build request body\n",
    "    body = json.dumps(\n",
    "        {\n",
    "            \"prompt\": positive_prompt, \n",
    "            \"mode\" : \"text-to-image\"\n",
    "        }\n",
    "    )\n",
    "\n",
    "    # Generate and save image\n",
    "    try:\n",
    "        image = generate_image_from_text(model_id=model_id, body=body)\n",
    "\n",
    "        if  save_image_path:\n",
    "            generated_image_path = save_image_path\n",
    "        else:\n",
    "            epoch_time = int(time.time())\n",
    "            generated_image_path = f\"{GENERATED_IMAGES}/image_{epoch_time}.jpg\"\n",
    "        \n",
    "        logger.info(f\"Generated image: {generated_image_path}\")\n",
    "        with open(generated_image_path, \"wb\") as file:\n",
    "            file.write(image)\n",
    "\n",
    "        print(f\"The generated image has been saved to {generated_image_path}.\")\n",
    "        \n",
    "    except ClientError as err:\n",
    "        message = err.response[\"Error\"][\"Message\"]\n",
    "        logger.error(\"A client error occurred: %s\", message)\n",
    "    except ImageError as err:\n",
    "        logger.error(err.message)\n",
    "\n",
    "    else:\n",
    "        logger.info(f\"Finished generating image with SD3.5 Large model {model_id}.\")"
   ]
  },
  {
   "cell_type": "code",
   "execution_count": 25,
   "metadata": {
    "tags": []
   },
   "outputs": [],
   "source": [
    "# Copyright Amazon.com, Inc. or its affiliates. All Rights Reserved.\n",
    "# SPDX-License-Identifier: Apache-2.0\n",
    "\"\"\"\n",
    "Shows how to generate an image from a reference image with SD3.5 Large (on demand).\n",
    "\"\"\"\n",
    "\n",
    "class ImageToImageRequest:\n",
    "    \"\"\"\n",
    "    Class for handling image to image request parameters.\n",
    "    \"\"\"\n",
    "\n",
    "    def __init__(\n",
    "        self,\n",
    "        image_width,\n",
    "        image_height,\n",
    "        positive_prompt,\n",
    "        # negative_prompt,\n",
    "        init_image_mode=\"IMAGE_STRENGTH\",\n",
    "        image_strength=0.5,\n",
    "        cfg_scale=7,\n",
    "        clip_guidance_preset=\"SLOWER\",\n",
    "        sampler=\"K_DPMPP_2M\",\n",
    "        samples=1,\n",
    "        seed=1,\n",
    "        steps=30,\n",
    "        style_preset=\"photographic\",\n",
    "        extras=None,\n",
    "    ):\n",
    "        self.image_width = image_width\n",
    "        self.image_height = image_height\n",
    "        self.positive_prompt = positive_prompt\n",
    "        # self.negative_prompt = negative_prompt\n",
    "        self.init_image_mode = init_image_mode\n",
    "        self.image_strength = image_strength\n",
    "        self.cfg_scale = cfg_scale\n",
    "        self.clip_guidance_preset = clip_guidance_preset\n",
    "        self.sampler = sampler\n",
    "        self.samples = samples\n",
    "        self.seed = seed\n",
    "        self.steps = steps\n",
    "        self.style_preset = style_preset\n",
    "        self.extras = extras\n",
    "\n",
    "\n",
    "@unique\n",
    "class StylesPresets(Enum):\n",
    "    \"\"\"\n",
    "    Enumerator for SD3.5 Large style presets.\n",
    "    \"\"\"\n",
    "\n",
    "    THREE_D_MODEL = \"3d-model\"\n",
    "    ANALOG_FILM = \"analog-film\"\n",
    "    ANIME = \"anime\"\n",
    "    CINEMATIC = \"cinematic\"\n",
    "    COMIC_BOOK = \"comic-book\"\n",
    "    DIGITAL_ART = \"digital-art\"\n",
    "    ENHANCE = \"enhance\"\n",
    "    FANTASY_ART = \"fantasy-art\"\n",
    "    ISOMETRIC = \"isometric\"\n",
    "    LINE_ART = \"line-art\"\n",
    "    LOW_POLY = \"low-poly\"\n",
    "    MODELING_COMPOUND = \"modeling-compound\"\n",
    "    NEON_PUNK = \"neon-punk\"\n",
    "    ORIGAMI = \"origami\"\n",
    "    PHOTOGRAPHIC = \"photographic\"\n",
    "    PIXEL_ART = \"pixel-art\"\n",
    "    TILE_TEXTURE = \"tile-texture\"\n",
    "\n",
    "\n",
    "def generate_image_from_image(model_id, body):\n",
    "    \"\"\"\n",
    "    Generate an image using SD3.5 Large on demand.\n",
    "    Args:\n",
    "        model_id (str): The model ID to use.\n",
    "        body (str) : The request body to use.\n",
    "    Returns:\n",
    "        image_bytes (bytes): The image generated by the model.\n",
    "    \"\"\"\n",
    "\n",
    "    logger.info(\"Generating image with SD3.5 Large model %s\", model_id)\n",
    "\n",
    "    bedrock = boto3.client(service_name=\"bedrock-runtime\")\n",
    "\n",
    "    accept = \"application/json\"\n",
    "    content_type = \"application/json\"\n",
    "\n",
    "    response = bedrock.invoke_model(\n",
    "        body=body, modelId=model_id, accept=accept, contentType=content_type\n",
    "    )\n",
    "    response_body = json.loads(response.get(\"body\").read())\n",
    "    logger.info(f\"Bedrock result: {response_body['result']}\")\n",
    "\n",
    "    base64_image = response_body.get(\"artifacts\")[0].get(\"base64\")\n",
    "    base64_bytes = base64_image.encode(\"ascii\")\n",
    "    image_bytes = base64.b64decode(base64_bytes)\n",
    "\n",
    "    finish_reason = response_body.get(\"artifacts\")[0].get(\"finishReason\")\n",
    "\n",
    "    if finish_reason == \"ERROR\" or finish_reason == \"CONTENT_FILTERED\":\n",
    "        raise ImageError(f\"Image generation error. Error code is {finish_reason}\")\n",
    "\n",
    "    logger.info(\"Successfully generated image with the SD3.5 Large model %s\", model_id)\n",
    "\n",
    "    return image_bytes\n",
    "\n",
    "\n",
    "def image_to_image_request(\n",
    "    imageToImageRequest,\n",
    "    source_image,\n",
    "    save_image_path=None,\n",
    "    save_image_folder=None,\n",
    "):\n",
    "    \"\"\"\n",
    "    Args:\n",
    "        imageToImageRequest (ImageToImageRequest): The image to image request to use.\n",
    "        generated_images (str): The directory to save the generated images to.\n",
    "        source_image (str): The source image to use.\n",
    "    \"\"\"\n",
    "\n",
    "    # Read source image from file and encode as base64 strings\n",
    "    image = Image.open(source_image)\n",
    "    new_image = image.resize(\n",
    "        (imageToImageRequest.image_width, imageToImageRequest.image_height)\n",
    "    )\n",
    "\n",
    "    new_image.save(f\"{source_image[:-4]}_tmp.jpg\")\n",
    "\n",
    "    with open(f\"{source_image[:-4]}_tmp.jpg\", \"rb\") as image_file:\n",
    "        init_image = base64.b64encode(image_file.read()).decode(\"utf8\")\n",
    "\n",
    "    # Build request body\n",
    "    body = json.dumps(\n",
    "        {\n",
    "            \"text_prompts\": [\n",
    "                {\"text\": imageToImageRequest.positive_prompt, \"weight\": 1}\n",
    "                # {\"text\": imageToImageRequest.negative_prompt, \"weight\": -1},\n",
    "            ],\n",
    "            \"init_image\": init_image,\n",
    "            \"init_image_mode\": imageToImageRequest.init_image_mode,\n",
    "            \"image_strength\": imageToImageRequest.image_strength,\n",
    "            \"cfg_scale\": imageToImageRequest.cfg_scale,\n",
    "            \"clip_guidance_preset\": imageToImageRequest.clip_guidance_preset,\n",
    "            \"sampler\": imageToImageRequest.sampler,\n",
    "            \"samples\": imageToImageRequest.samples,\n",
    "            \"seed\": imageToImageRequest.seed,\n",
    "            \"steps\": imageToImageRequest.steps,\n",
    "            \"style_preset\": imageToImageRequest.style_preset,\n",
    "        }\n",
    "    )\n",
    "\n",
    "    try:\n",
    "        logger.info(f\"Source image: {source_image}\")\n",
    "        image_bytes = generate_image_from_image(model_id=MODEL_ID, body=body)\n",
    "        image = Image.open(io.BytesIO(image_bytes))\n",
    "        epoch_time = int(time.time())\n",
    "\n",
    "        if save_image_path is not None:\n",
    "            generated_image_path = save_image_path\n",
    "        elif save_image_folder is not None:\n",
    "            generated_image_path = f\"{save_image_folder}/image_{epoch_time}_{imageToImageRequest.seed}_{imageToImageRequest.sampler}_{imageToImageRequest.image_strength}_{imageToImageRequest.cfg_scale}_{imageToImageRequest.steps}_{imageToImageRequest.style_preset}.jpg\"\n",
    "        else:\n",
    "            generated_image_path = f\"{GENERATED_IMAGES}/image_{epoch_time}_{imageToImageRequest.seed}_{imageToImageRequest.sampler}_{imageToImageRequest.image_strength}_{imageToImageRequest.cfg_scale}_{imageToImageRequest.steps}_{imageToImageRequest.style_preset}.jpg\"\n",
    "\n",
    "\n",
    "        logger.info(f\"Generated image: {generated_image_path}\")\n",
    "        image.save(generated_image_path, format=\"JPEG\", quality=95)\n",
    "\n",
    "    except ClientError as err:\n",
    "        message = err.response[\"Error\"][\"Message\"]\n",
    "        logger.error(\"A client error occurred: %s\", message)\n",
    "    except ImageError as err:\n",
    "        logger.error(err.message)\n",
    "\n",
    "    else:\n",
    "        logger.info(f\"Finished generating image with SD3.5 Large model {MODEL_ID}.\")"
   ]
  },
  {
   "cell_type": "code",
   "execution_count": 26,
   "metadata": {
    "tags": []
   },
   "outputs": [],
   "source": [
    "from PIL import Image\n",
    "from IPython.display import display\n",
    "\n",
    "def display_image(source_image_name, width=None, height=None):\n",
    "    source_image = Image.open(source_image_name)\n",
    "    if width and height:\n",
    "        display(source_image.resize((width, height)))\n",
    "    else:\n",
    "        display(source_image)\n",
    "    print(source_image_name)"
   ]
  },
  {
   "cell_type": "markdown",
   "metadata": {
    "tags": []
   },
   "source": [
    "### Define the Claude function"
   ]
  },
  {
   "cell_type": "code",
   "execution_count": 27,
   "metadata": {
    "tags": []
   },
   "outputs": [],
   "source": [
    "def invoke_claude(client, prompt, max_tokens_to_sample=2000, modelId=\"anthropic.claude-3-sonnet-20240229-v1:0\", temperature=1, top_k=250, top_p=0.999, stop_sequences=[], retry=3):\n",
    "    body_dict = {\"messages\": [\n",
    "          {\n",
    "            \"role\": \"user\",\n",
    "            \"content\": [\n",
    "              {\n",
    "                \"type\": \"text\",\n",
    "                \"text\": prompt\n",
    "              }\n",
    "            ]}],\n",
    "            \"max_tokens\": max_tokens_to_sample,\n",
    "            \"temperature\": temperature,\n",
    "            \"top_k\": top_k,\n",
    "            \"top_p\": top_p,\n",
    "            \"stop_sequences\": stop_sequences+[\"\\n\\nHuman:\"], \n",
    "            \"anthropic_version\": \"bedrock-2023-05-31\"}\n",
    "    body = json.dumps(body_dict)\n",
    "\n",
    "    request = {\n",
    "      \"modelId\": modelId,\n",
    "      \"contentType\": \"application/json\",\n",
    "      \"accept\": \"application/json\",\n",
    "      \"body\": body\n",
    "    }\n",
    "    \n",
    "    for trial in range(retry):\n",
    "        try:\n",
    "            response = client.invoke_model(**request)\n",
    "            response_body = json.loads(response.get('body').read())\n",
    "            break\n",
    "        except Exception as e:\n",
    "            print(str(e))\n",
    "            print(\"Bedrock request is throttled. Retry in a minute. (In production this should not happen.)\")\n",
    "            time.sleep(60)\n",
    "    \n",
    "    return response_body[\"content\"][0][\"text\"]"
   ]
  },
  {
   "cell_type": "markdown",
   "metadata": {},
   "source": [
    "## Let's start the Ad demo"
   ]
  },
  {
   "cell_type": "markdown",
   "metadata": {},
   "source": [
    "### Generate the advertising concepts"
   ]
  },
  {
   "cell_type": "code",
   "execution_count": 28,
   "metadata": {
    "tags": []
   },
   "outputs": [
    {
     "name": "stdout",
     "output_type": "stream",
     "text": [
      "```json\n",
      "[\n",
      "  {\n",
      "    \"assetType\": \"Character\",\n",
      "    \"name\": \"Arenys, the Shapeshifter Mage\",\n",
      "    \"description\": \"A powerful sorceress with the ability to transform into mythical creatures. Her human form is a lithe, agile woman with long azure hair and glowing amethyst eyes. When shapeshifted, she takes on draconic qualities with scales shimmering like opals and wings that leave a trail of stardust.\",\n",
      "    \"uniqueFeatures\": \"Shapeshifting abilities, elemental magic affinities, mystical energy aura\"\n",
      "  },\n",
      "  {\n",
      "    \"assetType\": \"Environment\",\n",
      "    \"name\": \"Arcanian Skylands\",\n",
      "    \"description\": \"A realm suspended in the celestial skies, where floating islands drift amidst swirling nebulae. Crystal spires erupt from the islands, channeling raw magical energy. Atmospheric plants and trees flourish, their roots intertwined with pulsating ley lines. The skies are a kaleidoscope of auroras and cosmic phenomena.\",\n",
      "    \"uniqueFeatures\": \"Anti-gravitational properties, dynamic celestial phenomena, floating architecture\"\n",
      "  },\n",
      "  {\n",
      "    \"assetType\": \"Prop\",\n",
      "    \"name\": \"Runeforged Technoblade\",\n",
      "    \"description\": \"An elegant yet deadly weapon that fuses arcane runes with advanced technology. The blade is composed of a crystalline alloy that refracts light, while intricate runic patterns etched along its edges allow it to channel elemental energies. A pulsing power core in the hilt provides an endless supply of magical energy.\",\n",
      "    \"uniqueFeatures\": \"Elemental energy channeling, crystalline composition, integrated power core\"\n",
      "  },\n",
      "  {\n",
      "    \"assetType\": \"Character\",\n",
      "    \"name\": \"Zyrax, the Mechanized Sentinel\",\n",
      "    \"description\": \"A towering construct of mystical machinery and living metallurgy. Its body is a seamless fusion of gears, plates, and conduits that course with ethereal energies. Gemstones serve as visual receptors, and slivers of its metallic flesh appear to be imbued with a faint consciousness.\",\n",
      "    \"uniqueFeatures\": \"Sentient machinery, mystical power source, morphing mechanical anatomy\"\n",
      "  }\n",
      "]\n",
      "```\n"
     ]
    }
   ],
   "source": [
    "prompt = \"\"\"You are an expert game concept artist and world-builder for MysticMingle Games, specializing in creating immersive visual narratives for the Mystic Realms universe.\n",
    "\n",
    "Your task is to generate comprehensive, creative concepts for game assets, characters, environments, and marketing materials that capture the unique essence of Mystic Realms in json format.\n",
    "\n",
    "Key Generation Parameters:\n",
    "1. Game Genre: Fantasy RPG with multi-dimensional magical world\n",
    "2. Core Visual Themes: \n",
    "   - Elemental magic\n",
    "   - Shapeshifting mechanics\n",
    "   - Technological-magical fusion\n",
    "   - Mythical creature interactions\n",
    "\n",
    "Asset Generation Requirements:\n",
    "- Detailed character designs with unique magical attributes\n",
    "- Environment concepts showcasing diverse, interconnected realms\n",
    "- Prop and asset designs that reflect the game's magical-technological aesthetic\n",
    "- Color palettes that emphasize mystical and ethereal qualities\n",
    "\n",
    "\n",
    "Target Audience: \n",
    "- Gamers aged 18-35\n",
    "- Fans of complex, immersive fantasy worlds\n",
    "- Players who enjoy strategic magical gameplay\n",
    "\n",
    "Artistic Style: \n",
    "- High-detail, semi-realistic with mystical overtones\n",
    "- Color palette: Jewel tones, ethereal blues, magical purples\n",
    "\n",
    "\n",
    "json Output Format:\n",
    "[\n",
    "    {\n",
    "        \"assetType\": \"Character/Environment/Prop\",\n",
    "        \"name\": \"Specific Asset Name\",\n",
    "        \"description\": \"Detailed visual and thematic description\",\n",
    "        \"uniqueFeatures\": \"Special magical or technological attributes\"\n",
    "    }\n",
    "]\n",
    "\n",
    "\n",
    "\"\"\"\n",
    "client = boto3.client(service_name=\"bedrock-runtime\")\n",
    "result = invoke_claude(client, prompt)\n",
    "print(result)"
   ]
  },
  {
   "cell_type": "code",
   "execution_count": 29,
   "metadata": {
    "tags": []
   },
   "outputs": [],
   "source": [
    "def clean_json_string(result):\n",
    "    if result.startswith('```json\\n'):\n",
    "        result = result[8:]\n",
    "    if result.endswith('\\n```'):\n",
    "        result = result[:-4]\n",
    "    return result.strip()"
   ]
  },
  {
   "cell_type": "code",
   "execution_count": 30,
   "metadata": {
    "tags": []
   },
   "outputs": [],
   "source": [
    "result = clean_json_string(result)"
   ]
  },
  {
   "cell_type": "code",
   "execution_count": 31,
   "metadata": {
    "tags": []
   },
   "outputs": [
    {
     "name": "stdout",
     "output_type": "stream",
     "text": [
      "Character\n",
      "Arenys, the Shapeshifter Mage\n",
      "A powerful sorceress with the ability to transform into mythical creatures. Her human form is a lithe, agile woman with long azure hair and glowing amethyst eyes. When shapeshifted, she takes on draconic qualities with scales shimmering like opals and wings that leave a trail of stardust.\n",
      "Shapeshifting abilities, elemental magic affinities, mystical energy aura\n",
      "Environment\n",
      "Arcanian Skylands\n",
      "A realm suspended in the celestial skies, where floating islands drift amidst swirling nebulae. Crystal spires erupt from the islands, channeling raw magical energy. Atmospheric plants and trees flourish, their roots intertwined with pulsating ley lines. The skies are a kaleidoscope of auroras and cosmic phenomena.\n",
      "Anti-gravitational properties, dynamic celestial phenomena, floating architecture\n",
      "Prop\n",
      "Runeforged Technoblade\n",
      "An elegant yet deadly weapon that fuses arcane runes with advanced technology. The blade is composed of a crystalline alloy that refracts light, while intricate runic patterns etched along its edges allow it to channel elemental energies. A pulsing power core in the hilt provides an endless supply of magical energy.\n",
      "Elemental energy channeling, crystalline composition, integrated power core\n",
      "Character\n",
      "Zyrax, the Mechanized Sentinel\n",
      "A towering construct of mystical machinery and living metallurgy. Its body is a seamless fusion of gears, plates, and conduits that course with ethereal energies. Gemstones serve as visual receptors, and slivers of its metallic flesh appear to be imbued with a faint consciousness.\n",
      "Sentient machinery, mystical power source, morphing mechanical anatomy\n"
     ]
    }
   ],
   "source": [
    "import json\n",
    "data = json.loads(result)\n",
    "for item in data:\n",
    "    print(item['assetType'])\n",
    "    print(item['name'])\n",
    "    print(item['description'])\n",
    "    print(item['uniqueFeatures'])\n",
    "#     final_prompt = internal_prompt.format(\n",
    "                    \n",
    "#             )"
   ]
  },
  {
   "cell_type": "markdown",
   "metadata": {},
   "source": [
    "### Parse the advertising concepts and generate prompts for Stable Image Ultra"
   ]
  },
  {
   "cell_type": "code",
   "execution_count": 32,
   "metadata": {
    "tags": []
   },
   "outputs": [
    {
     "name": "stdout",
     "output_type": "stream",
     "text": [
      "generated_prompt: [\n",
      "    {\n",
      "        \"positive_prompt\": \"A powerful sorceress with long azure hair and glowing amethyst eyes, lithe and agile in her human form, transforming into a majestic draconic creature with opal-shimmering scales and wings trailing stardust, surrounded by an aura of mystical elemental energy, assetType:character, name:Arenys the Shapeshifter Mage\"\n",
      "    }\n",
      "]\n",
      "generated_prompt: [\n",
      "    {\n",
      "        \"positive_prompt\": \"A breathtaking environment of floating islands suspended in a celestial sky, drifting amidst swirling nebulae and auroras, crystal spires erupting from the islands and channeling raw magical energy, atmospheric plants and trees with roots intertwined with pulsating ley lines, anti-gravitational properties, dynamic celestial phenomena, floating architecture, astonishing cosmic vistas, masterpiece, 8k, photorealistic\"\n",
      "    }\n",
      "]\n",
      "generated_prompt: [\n",
      "    {\n",
      "        \"positive_prompt\": \"An elegant prop sword with a crystalline blade composed of a refracting alloy, with intricate arcane runes etched along the edges, a pulsing power core in the hilt, emanating elemental energies, Runeforged Technoblade, highly detailed, 8k, photorealistic\"\n",
      "    }\n",
      "]\n",
      "generated_prompt: [\n",
      "    {\n",
      "        \"positive_prompt\": \"A towering mechanized humanoid figure, fusion of gears, metal plates and conduits pulsing with ethereal energies, gemstones as visual receptors, slivers of metallic flesh imbued with faint consciousness, sentient machinery, mystical power source, morphing mechanical anatomy, epic fantasy, magic technology\"\n",
      "    }\n",
      "]\n",
      "['[\\n    {\\n        \"positive_prompt\": \"A powerful sorceress with long azure hair and glowing amethyst eyes, lithe and agile in her human form, transforming into a majestic draconic creature with opal-shimmering scales and wings trailing stardust, surrounded by an aura of mystical elemental energy, assetType:character, name:Arenys the Shapeshifter Mage\"\\n    }\\n]', '[\\n    {\\n        \"positive_prompt\": \"A breathtaking environment of floating islands suspended in a celestial sky, drifting amidst swirling nebulae and auroras, crystal spires erupting from the islands and channeling raw magical energy, atmospheric plants and trees with roots intertwined with pulsating ley lines, anti-gravitational properties, dynamic celestial phenomena, floating architecture, astonishing cosmic vistas, masterpiece, 8k, photorealistic\"\\n    }\\n]', '[\\n    {\\n        \"positive_prompt\": \"An elegant prop sword with a crystalline blade composed of a refracting alloy, with intricate arcane runes etched along the edges, a pulsing power core in the hilt, emanating elemental energies, Runeforged Technoblade, highly detailed, 8k, photorealistic\"\\n    }\\n]', '[\\n    {\\n        \"positive_prompt\": \"A towering mechanized humanoid figure, fusion of gears, metal plates and conduits pulsing with ethereal energies, gemstones as visual receptors, slivers of metallic flesh imbued with faint consciousness, sentient machinery, mystical power source, morphing mechanical anatomy, epic fantasy, magic technology\"\\n    }\\n]']\n"
     ]
    }
   ],
   "source": [
    "import json\n",
    "\n",
    "def parse_json_string_to_prompt(json_string):\n",
    "    prompts = []\n",
    "    internal_prompt = \"\"\"\n",
    "    You are an expert who wants to use the stable diffusion model to generate gaming assets and worlds. Please use the following content to generate the prompts for stable diffusion model:\n",
    "    - \"assetType\": {assetType}\n",
    "    - \"name\": {name}\n",
    "    - \"description\": {description}\n",
    "    - \"uniqueFeatures\": {uniqueFeatures}\n",
    "    \n",
    "    \"\"\"\n",
    "    tailend_prompt = \"\"\"\n",
    "    Output format should be json format as below:\n",
    "    [\n",
    "        {\n",
    "            \"positive_prompt\": \"prompt\",\n",
    "        }\n",
    "    ]\"\"\"\n",
    "    \n",
    "    try:\n",
    "        data = json.loads(json_string)\n",
    "        for item in data:\n",
    "            final_prompt = internal_prompt.format(\n",
    "                assetType=item['assetType'],\n",
    "                name=item['name'],\n",
    "                description=item['description'],\n",
    "                uniqueFeatures=item['uniqueFeatures'],\n",
    "            )\n",
    "            generated_prompt = invoke_claude(client, final_prompt + tailend_prompt)\n",
    "            print(f\"generated_prompt: {generated_prompt}\")\n",
    "            prompts.append(generated_prompt)\n",
    "    except json.JSONDecodeError:\n",
    "        print(\"Invalid JSON string\")\n",
    "    \n",
    "    return prompts\n",
    "\n",
    "# Sample JSON string\n",
    "\n",
    "#json_string = result\n",
    "\n",
    "prompts = parse_json_string_to_prompt(result)\n",
    "print(prompts)\n"
   ]
  },
  {
   "cell_type": "markdown",
   "metadata": {},
   "source": [
    "### Generate the Ad poster for the advertising concepts"
   ]
  },
  {
   "cell_type": "code",
   "execution_count": 33,
   "metadata": {
    "tags": []
   },
   "outputs": [
    {
     "name": "stderr",
     "output_type": "stream",
     "text": [
      "2025-01-22 00:37:02,270 - INFO - Generating image with SD3.5 Large model stability.sd3-5-large-v1:0\n"
     ]
    },
    {
     "name": "stdout",
     "output_type": "stream",
     "text": [
      "A powerful sorceress with long azure hair and glowing amethyst eyes, lithe and agile in her human form, transforming into a majestic draconic creature with opal-shimmering scales and wings trailing stardust, surrounded by an aura of mystical elemental energy, assetType:character, name:Arenys the Shapeshifter Mage\n",
      "Attempting to save image to: ./generated_images/game_0.jpg\n"
     ]
    },
    {
     "name": "stderr",
     "output_type": "stream",
     "text": [
      "2025-01-22 00:37:08,213 - INFO - Successfully generated image with the SD3.5 Large model stability.sd3-5-large-v1:0\n",
      "2025-01-22 00:37:08,219 - INFO - Generated image: ./generated_images/game_0.jpg\n",
      "2025-01-22 00:37:08,265 - INFO - Finished generating image with SD3.5 Large model stability.sd3-5-large-v1:0.\n"
     ]
    },
    {
     "name": "stdout",
     "output_type": "stream",
     "text": [
      "The generated image has been saved to ./generated_images/game_0.jpg.\n"
     ]
    },
    {
     "name": "stderr",
     "output_type": "stream",
     "text": [
      "2025-01-22 00:38:08,267 - INFO - Generating image with SD3.5 Large model stability.sd3-5-large-v1:0\n"
     ]
    },
    {
     "name": "stdout",
     "output_type": "stream",
     "text": [
      "A breathtaking environment of floating islands suspended in a celestial sky, drifting amidst swirling nebulae and auroras, crystal spires erupting from the islands and channeling raw magical energy, atmospheric plants and trees with roots intertwined with pulsating ley lines, anti-gravitational properties, dynamic celestial phenomena, floating architecture, astonishing cosmic vistas, masterpiece, 8k, photorealistic\n",
      "Attempting to save image to: ./generated_images/game_1.jpg\n"
     ]
    },
    {
     "name": "stderr",
     "output_type": "stream",
     "text": [
      "2025-01-22 00:38:14,053 - INFO - Successfully generated image with the SD3.5 Large model stability.sd3-5-large-v1:0\n",
      "2025-01-22 00:38:14,056 - INFO - Generated image: ./generated_images/game_1.jpg\n",
      "2025-01-22 00:38:14,095 - INFO - Finished generating image with SD3.5 Large model stability.sd3-5-large-v1:0.\n"
     ]
    },
    {
     "name": "stdout",
     "output_type": "stream",
     "text": [
      "The generated image has been saved to ./generated_images/game_1.jpg.\n"
     ]
    },
    {
     "name": "stderr",
     "output_type": "stream",
     "text": [
      "2025-01-22 00:39:14,096 - INFO - Generating image with SD3.5 Large model stability.sd3-5-large-v1:0\n"
     ]
    },
    {
     "name": "stdout",
     "output_type": "stream",
     "text": [
      "An elegant prop sword with a crystalline blade composed of a refracting alloy, with intricate arcane runes etched along the edges, a pulsing power core in the hilt, emanating elemental energies, Runeforged Technoblade, highly detailed, 8k, photorealistic\n",
      "Attempting to save image to: ./generated_images/game_2.jpg\n"
     ]
    },
    {
     "name": "stderr",
     "output_type": "stream",
     "text": [
      "2025-01-22 00:39:19,621 - INFO - Successfully generated image with the SD3.5 Large model stability.sd3-5-large-v1:0\n",
      "2025-01-22 00:39:19,624 - INFO - Generated image: ./generated_images/game_2.jpg\n",
      "2025-01-22 00:39:19,669 - INFO - Finished generating image with SD3.5 Large model stability.sd3-5-large-v1:0.\n"
     ]
    },
    {
     "name": "stdout",
     "output_type": "stream",
     "text": [
      "The generated image has been saved to ./generated_images/game_2.jpg.\n"
     ]
    },
    {
     "name": "stderr",
     "output_type": "stream",
     "text": [
      "2025-01-22 00:40:19,670 - INFO - Generating image with SD3.5 Large model stability.sd3-5-large-v1:0\n"
     ]
    },
    {
     "name": "stdout",
     "output_type": "stream",
     "text": [
      "A towering mechanized humanoid figure, fusion of gears, metal plates and conduits pulsing with ethereal energies, gemstones as visual receptors, slivers of metallic flesh imbued with faint consciousness, sentient machinery, mystical power source, morphing mechanical anatomy, epic fantasy, magic technology\n",
      "Attempting to save image to: ./generated_images/game_3.jpg\n"
     ]
    },
    {
     "name": "stderr",
     "output_type": "stream",
     "text": [
      "2025-01-22 00:40:25,523 - INFO - Successfully generated image with the SD3.5 Large model stability.sd3-5-large-v1:0\n",
      "2025-01-22 00:40:25,560 - INFO - Generated image: ./generated_images/game_3.jpg\n",
      "2025-01-22 00:40:25,627 - INFO - Finished generating image with SD3.5 Large model stability.sd3-5-large-v1:0.\n"
     ]
    },
    {
     "name": "stdout",
     "output_type": "stream",
     "text": [
      "The generated image has been saved to ./generated_images/game_3.jpg.\n"
     ]
    }
   ],
   "source": [
    "import time \n",
    "for index, prompt_json in enumerate(prompts):\n",
    "    prompt = json.loads(prompt_json)\n",
    "    for item in prompt:\n",
    "        if \"positive_prompt\" in item:\n",
    "            POSITIVE_PROMPT =item[\"positive_prompt\"]\n",
    "            print(POSITIVE_PROMPT)\n",
    "\n",
    "    SAVE_IMAGE_PATH = f\"./generated_images/game_{index}.jpg\"\n",
    "    print(f\"Attempting to save image to: {SAVE_IMAGE_PATH}\")\n",
    "\n",
    "    text_to_image_request(\n",
    "        MODEL_ID,\n",
    "        POSITIVE_PROMPT,\n",
    "        SAVE_IMAGE_PATH\n",
    "    )\n",
    "    time.sleep(60)"
   ]
  }
 ],
 "metadata": {
  "availableInstances": [
   {
    "_defaultOrder": 0,
    "_isFastLaunch": true,
    "category": "General purpose",
    "gpuNum": 0,
    "hideHardwareSpecs": false,
    "memoryGiB": 4,
    "name": "ml.t3.medium",
    "vcpuNum": 2
   },
   {
    "_defaultOrder": 1,
    "_isFastLaunch": false,
    "category": "General purpose",
    "gpuNum": 0,
    "hideHardwareSpecs": false,
    "memoryGiB": 8,
    "name": "ml.t3.large",
    "vcpuNum": 2
   },
   {
    "_defaultOrder": 2,
    "_isFastLaunch": false,
    "category": "General purpose",
    "gpuNum": 0,
    "hideHardwareSpecs": false,
    "memoryGiB": 16,
    "name": "ml.t3.xlarge",
    "vcpuNum": 4
   },
   {
    "_defaultOrder": 3,
    "_isFastLaunch": false,
    "category": "General purpose",
    "gpuNum": 0,
    "hideHardwareSpecs": false,
    "memoryGiB": 32,
    "name": "ml.t3.2xlarge",
    "vcpuNum": 8
   },
   {
    "_defaultOrder": 4,
    "_isFastLaunch": true,
    "category": "General purpose",
    "gpuNum": 0,
    "hideHardwareSpecs": false,
    "memoryGiB": 8,
    "name": "ml.m5.large",
    "vcpuNum": 2
   },
   {
    "_defaultOrder": 5,
    "_isFastLaunch": false,
    "category": "General purpose",
    "gpuNum": 0,
    "hideHardwareSpecs": false,
    "memoryGiB": 16,
    "name": "ml.m5.xlarge",
    "vcpuNum": 4
   },
   {
    "_defaultOrder": 6,
    "_isFastLaunch": false,
    "category": "General purpose",
    "gpuNum": 0,
    "hideHardwareSpecs": false,
    "memoryGiB": 32,
    "name": "ml.m5.2xlarge",
    "vcpuNum": 8
   },
   {
    "_defaultOrder": 7,
    "_isFastLaunch": false,
    "category": "General purpose",
    "gpuNum": 0,
    "hideHardwareSpecs": false,
    "memoryGiB": 64,
    "name": "ml.m5.4xlarge",
    "vcpuNum": 16
   },
   {
    "_defaultOrder": 8,
    "_isFastLaunch": false,
    "category": "General purpose",
    "gpuNum": 0,
    "hideHardwareSpecs": false,
    "memoryGiB": 128,
    "name": "ml.m5.8xlarge",
    "vcpuNum": 32
   },
   {
    "_defaultOrder": 9,
    "_isFastLaunch": false,
    "category": "General purpose",
    "gpuNum": 0,
    "hideHardwareSpecs": false,
    "memoryGiB": 192,
    "name": "ml.m5.12xlarge",
    "vcpuNum": 48
   },
   {
    "_defaultOrder": 10,
    "_isFastLaunch": false,
    "category": "General purpose",
    "gpuNum": 0,
    "hideHardwareSpecs": false,
    "memoryGiB": 256,
    "name": "ml.m5.16xlarge",
    "vcpuNum": 64
   },
   {
    "_defaultOrder": 11,
    "_isFastLaunch": false,
    "category": "General purpose",
    "gpuNum": 0,
    "hideHardwareSpecs": false,
    "memoryGiB": 384,
    "name": "ml.m5.24xlarge",
    "vcpuNum": 96
   },
   {
    "_defaultOrder": 12,
    "_isFastLaunch": false,
    "category": "General purpose",
    "gpuNum": 0,
    "hideHardwareSpecs": false,
    "memoryGiB": 8,
    "name": "ml.m5d.large",
    "vcpuNum": 2
   },
   {
    "_defaultOrder": 13,
    "_isFastLaunch": false,
    "category": "General purpose",
    "gpuNum": 0,
    "hideHardwareSpecs": false,
    "memoryGiB": 16,
    "name": "ml.m5d.xlarge",
    "vcpuNum": 4
   },
   {
    "_defaultOrder": 14,
    "_isFastLaunch": false,
    "category": "General purpose",
    "gpuNum": 0,
    "hideHardwareSpecs": false,
    "memoryGiB": 32,
    "name": "ml.m5d.2xlarge",
    "vcpuNum": 8
   },
   {
    "_defaultOrder": 15,
    "_isFastLaunch": false,
    "category": "General purpose",
    "gpuNum": 0,
    "hideHardwareSpecs": false,
    "memoryGiB": 64,
    "name": "ml.m5d.4xlarge",
    "vcpuNum": 16
   },
   {
    "_defaultOrder": 16,
    "_isFastLaunch": false,
    "category": "General purpose",
    "gpuNum": 0,
    "hideHardwareSpecs": false,
    "memoryGiB": 128,
    "name": "ml.m5d.8xlarge",
    "vcpuNum": 32
   },
   {
    "_defaultOrder": 17,
    "_isFastLaunch": false,
    "category": "General purpose",
    "gpuNum": 0,
    "hideHardwareSpecs": false,
    "memoryGiB": 192,
    "name": "ml.m5d.12xlarge",
    "vcpuNum": 48
   },
   {
    "_defaultOrder": 18,
    "_isFastLaunch": false,
    "category": "General purpose",
    "gpuNum": 0,
    "hideHardwareSpecs": false,
    "memoryGiB": 256,
    "name": "ml.m5d.16xlarge",
    "vcpuNum": 64
   },
   {
    "_defaultOrder": 19,
    "_isFastLaunch": false,
    "category": "General purpose",
    "gpuNum": 0,
    "hideHardwareSpecs": false,
    "memoryGiB": 384,
    "name": "ml.m5d.24xlarge",
    "vcpuNum": 96
   },
   {
    "_defaultOrder": 20,
    "_isFastLaunch": false,
    "category": "General purpose",
    "gpuNum": 0,
    "hideHardwareSpecs": true,
    "memoryGiB": 0,
    "name": "ml.geospatial.interactive",
    "supportedImageNames": [
     "sagemaker-geospatial-v1-0"
    ],
    "vcpuNum": 0
   },
   {
    "_defaultOrder": 21,
    "_isFastLaunch": true,
    "category": "Compute optimized",
    "gpuNum": 0,
    "hideHardwareSpecs": false,
    "memoryGiB": 4,
    "name": "ml.c5.large",
    "vcpuNum": 2
   },
   {
    "_defaultOrder": 22,
    "_isFastLaunch": false,
    "category": "Compute optimized",
    "gpuNum": 0,
    "hideHardwareSpecs": false,
    "memoryGiB": 8,
    "name": "ml.c5.xlarge",
    "vcpuNum": 4
   },
   {
    "_defaultOrder": 23,
    "_isFastLaunch": false,
    "category": "Compute optimized",
    "gpuNum": 0,
    "hideHardwareSpecs": false,
    "memoryGiB": 16,
    "name": "ml.c5.2xlarge",
    "vcpuNum": 8
   },
   {
    "_defaultOrder": 24,
    "_isFastLaunch": false,
    "category": "Compute optimized",
    "gpuNum": 0,
    "hideHardwareSpecs": false,
    "memoryGiB": 32,
    "name": "ml.c5.4xlarge",
    "vcpuNum": 16
   },
   {
    "_defaultOrder": 25,
    "_isFastLaunch": false,
    "category": "Compute optimized",
    "gpuNum": 0,
    "hideHardwareSpecs": false,
    "memoryGiB": 72,
    "name": "ml.c5.9xlarge",
    "vcpuNum": 36
   },
   {
    "_defaultOrder": 26,
    "_isFastLaunch": false,
    "category": "Compute optimized",
    "gpuNum": 0,
    "hideHardwareSpecs": false,
    "memoryGiB": 96,
    "name": "ml.c5.12xlarge",
    "vcpuNum": 48
   },
   {
    "_defaultOrder": 27,
    "_isFastLaunch": false,
    "category": "Compute optimized",
    "gpuNum": 0,
    "hideHardwareSpecs": false,
    "memoryGiB": 144,
    "name": "ml.c5.18xlarge",
    "vcpuNum": 72
   },
   {
    "_defaultOrder": 28,
    "_isFastLaunch": false,
    "category": "Compute optimized",
    "gpuNum": 0,
    "hideHardwareSpecs": false,
    "memoryGiB": 192,
    "name": "ml.c5.24xlarge",
    "vcpuNum": 96
   },
   {
    "_defaultOrder": 29,
    "_isFastLaunch": true,
    "category": "Accelerated computing",
    "gpuNum": 1,
    "hideHardwareSpecs": false,
    "memoryGiB": 16,
    "name": "ml.g4dn.xlarge",
    "vcpuNum": 4
   },
   {
    "_defaultOrder": 30,
    "_isFastLaunch": false,
    "category": "Accelerated computing",
    "gpuNum": 1,
    "hideHardwareSpecs": false,
    "memoryGiB": 32,
    "name": "ml.g4dn.2xlarge",
    "vcpuNum": 8
   },
   {
    "_defaultOrder": 31,
    "_isFastLaunch": false,
    "category": "Accelerated computing",
    "gpuNum": 1,
    "hideHardwareSpecs": false,
    "memoryGiB": 64,
    "name": "ml.g4dn.4xlarge",
    "vcpuNum": 16
   },
   {
    "_defaultOrder": 32,
    "_isFastLaunch": false,
    "category": "Accelerated computing",
    "gpuNum": 1,
    "hideHardwareSpecs": false,
    "memoryGiB": 128,
    "name": "ml.g4dn.8xlarge",
    "vcpuNum": 32
   },
   {
    "_defaultOrder": 33,
    "_isFastLaunch": false,
    "category": "Accelerated computing",
    "gpuNum": 4,
    "hideHardwareSpecs": false,
    "memoryGiB": 192,
    "name": "ml.g4dn.12xlarge",
    "vcpuNum": 48
   },
   {
    "_defaultOrder": 34,
    "_isFastLaunch": false,
    "category": "Accelerated computing",
    "gpuNum": 1,
    "hideHardwareSpecs": false,
    "memoryGiB": 256,
    "name": "ml.g4dn.16xlarge",
    "vcpuNum": 64
   },
   {
    "_defaultOrder": 35,
    "_isFastLaunch": false,
    "category": "Accelerated computing",
    "gpuNum": 1,
    "hideHardwareSpecs": false,
    "memoryGiB": 61,
    "name": "ml.p3.2xlarge",
    "vcpuNum": 8
   },
   {
    "_defaultOrder": 36,
    "_isFastLaunch": false,
    "category": "Accelerated computing",
    "gpuNum": 4,
    "hideHardwareSpecs": false,
    "memoryGiB": 244,
    "name": "ml.p3.8xlarge",
    "vcpuNum": 32
   },
   {
    "_defaultOrder": 37,
    "_isFastLaunch": false,
    "category": "Accelerated computing",
    "gpuNum": 8,
    "hideHardwareSpecs": false,
    "memoryGiB": 488,
    "name": "ml.p3.16xlarge",
    "vcpuNum": 64
   },
   {
    "_defaultOrder": 38,
    "_isFastLaunch": false,
    "category": "Accelerated computing",
    "gpuNum": 8,
    "hideHardwareSpecs": false,
    "memoryGiB": 768,
    "name": "ml.p3dn.24xlarge",
    "vcpuNum": 96
   },
   {
    "_defaultOrder": 39,
    "_isFastLaunch": false,
    "category": "Memory Optimized",
    "gpuNum": 0,
    "hideHardwareSpecs": false,
    "memoryGiB": 16,
    "name": "ml.r5.large",
    "vcpuNum": 2
   },
   {
    "_defaultOrder": 40,
    "_isFastLaunch": false,
    "category": "Memory Optimized",
    "gpuNum": 0,
    "hideHardwareSpecs": false,
    "memoryGiB": 32,
    "name": "ml.r5.xlarge",
    "vcpuNum": 4
   },
   {
    "_defaultOrder": 41,
    "_isFastLaunch": false,
    "category": "Memory Optimized",
    "gpuNum": 0,
    "hideHardwareSpecs": false,
    "memoryGiB": 64,
    "name": "ml.r5.2xlarge",
    "vcpuNum": 8
   },
   {
    "_defaultOrder": 42,
    "_isFastLaunch": false,
    "category": "Memory Optimized",
    "gpuNum": 0,
    "hideHardwareSpecs": false,
    "memoryGiB": 128,
    "name": "ml.r5.4xlarge",
    "vcpuNum": 16
   },
   {
    "_defaultOrder": 43,
    "_isFastLaunch": false,
    "category": "Memory Optimized",
    "gpuNum": 0,
    "hideHardwareSpecs": false,
    "memoryGiB": 256,
    "name": "ml.r5.8xlarge",
    "vcpuNum": 32
   },
   {
    "_defaultOrder": 44,
    "_isFastLaunch": false,
    "category": "Memory Optimized",
    "gpuNum": 0,
    "hideHardwareSpecs": false,
    "memoryGiB": 384,
    "name": "ml.r5.12xlarge",
    "vcpuNum": 48
   },
   {
    "_defaultOrder": 45,
    "_isFastLaunch": false,
    "category": "Memory Optimized",
    "gpuNum": 0,
    "hideHardwareSpecs": false,
    "memoryGiB": 512,
    "name": "ml.r5.16xlarge",
    "vcpuNum": 64
   },
   {
    "_defaultOrder": 46,
    "_isFastLaunch": false,
    "category": "Memory Optimized",
    "gpuNum": 0,
    "hideHardwareSpecs": false,
    "memoryGiB": 768,
    "name": "ml.r5.24xlarge",
    "vcpuNum": 96
   },
   {
    "_defaultOrder": 47,
    "_isFastLaunch": false,
    "category": "Accelerated computing",
    "gpuNum": 1,
    "hideHardwareSpecs": false,
    "memoryGiB": 16,
    "name": "ml.g5.xlarge",
    "vcpuNum": 4
   },
   {
    "_defaultOrder": 48,
    "_isFastLaunch": false,
    "category": "Accelerated computing",
    "gpuNum": 1,
    "hideHardwareSpecs": false,
    "memoryGiB": 32,
    "name": "ml.g5.2xlarge",
    "vcpuNum": 8
   },
   {
    "_defaultOrder": 49,
    "_isFastLaunch": false,
    "category": "Accelerated computing",
    "gpuNum": 1,
    "hideHardwareSpecs": false,
    "memoryGiB": 64,
    "name": "ml.g5.4xlarge",
    "vcpuNum": 16
   },
   {
    "_defaultOrder": 50,
    "_isFastLaunch": false,
    "category": "Accelerated computing",
    "gpuNum": 1,
    "hideHardwareSpecs": false,
    "memoryGiB": 128,
    "name": "ml.g5.8xlarge",
    "vcpuNum": 32
   },
   {
    "_defaultOrder": 51,
    "_isFastLaunch": false,
    "category": "Accelerated computing",
    "gpuNum": 1,
    "hideHardwareSpecs": false,
    "memoryGiB": 256,
    "name": "ml.g5.16xlarge",
    "vcpuNum": 64
   },
   {
    "_defaultOrder": 52,
    "_isFastLaunch": false,
    "category": "Accelerated computing",
    "gpuNum": 4,
    "hideHardwareSpecs": false,
    "memoryGiB": 192,
    "name": "ml.g5.12xlarge",
    "vcpuNum": 48
   },
   {
    "_defaultOrder": 53,
    "_isFastLaunch": false,
    "category": "Accelerated computing",
    "gpuNum": 4,
    "hideHardwareSpecs": false,
    "memoryGiB": 384,
    "name": "ml.g5.24xlarge",
    "vcpuNum": 96
   },
   {
    "_defaultOrder": 54,
    "_isFastLaunch": false,
    "category": "Accelerated computing",
    "gpuNum": 8,
    "hideHardwareSpecs": false,
    "memoryGiB": 768,
    "name": "ml.g5.48xlarge",
    "vcpuNum": 192
   },
   {
    "_defaultOrder": 55,
    "_isFastLaunch": false,
    "category": "Accelerated computing",
    "gpuNum": 8,
    "hideHardwareSpecs": false,
    "memoryGiB": 1152,
    "name": "ml.p4d.24xlarge",
    "vcpuNum": 96
   },
   {
    "_defaultOrder": 56,
    "_isFastLaunch": false,
    "category": "Accelerated computing",
    "gpuNum": 8,
    "hideHardwareSpecs": false,
    "memoryGiB": 1152,
    "name": "ml.p4de.24xlarge",
    "vcpuNum": 96
   },
   {
    "_defaultOrder": 57,
    "_isFastLaunch": false,
    "category": "Accelerated computing",
    "gpuNum": 0,
    "hideHardwareSpecs": false,
    "memoryGiB": 32,
    "name": "ml.trn1.2xlarge",
    "vcpuNum": 8
   },
   {
    "_defaultOrder": 58,
    "_isFastLaunch": false,
    "category": "Accelerated computing",
    "gpuNum": 0,
    "hideHardwareSpecs": false,
    "memoryGiB": 512,
    "name": "ml.trn1.32xlarge",
    "vcpuNum": 128
   },
   {
    "_defaultOrder": 59,
    "_isFastLaunch": false,
    "category": "Accelerated computing",
    "gpuNum": 0,
    "hideHardwareSpecs": false,
    "memoryGiB": 512,
    "name": "ml.trn1n.32xlarge",
    "vcpuNum": 128
   }
  ],
  "instance_type": "ml.t3.medium",
  "kernelspec": {
   "display_name": "Python 3 (Data Science 4.0)",
   "language": "python",
   "name": "python3__SAGEMAKER_INTERNAL__arn:aws:sagemaker:us-west-2:236514542706:image/sagemaker-data-science-311-v1"
  },
  "language_info": {
   "codemirror_mode": {
    "name": "ipython",
    "version": 3
   },
   "file_extension": ".py",
   "mimetype": "text/x-python",
   "name": "python",
   "nbconvert_exporter": "python",
   "pygments_lexer": "ipython3",
   "version": "3.11.9"
  }
 },
 "nbformat": 4,
 "nbformat_minor": 4
}
