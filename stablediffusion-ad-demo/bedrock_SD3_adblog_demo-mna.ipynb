{
 "cells": [
  {
   "cell_type": "markdown",
   "metadata": {},
   "source": [
    "# Amazon Bedrock and Stability.ai Stable Image Ultra 1.0 Advertising Demo\n",
    "\n",
    "In this notebook we will learn how to use the AWS SDK for Python (Boto3) to create Ad posters using [Amazon Bedrock](https://aws.amazon.com/bedrock/) and [Stability.ai](https://stability.ai/stable-image) Stable Image Ultra1.0 model, with the help of [Anthropic Claude 3](https://www.anthropic.com/claude).  It demonstrates how to produce a series of images using LLM refined prompts for a brand called “Young Generational Shoes” aka “YGS”, inturn ensuring brand consistency and message effectiveness. By combining the ideation capabilities of LLMs with advanced image generation, this workflow empowers marketing teams to produce high-quality, tailored visual assets that resonate with their target audience more efficiently than ever before. This innovative approach has the potential to transform the creative process in advertising, enabling agencies to be more agile, productive, and aligned with rapidly evolving market trends and consumer preferences. \n",
    "\n",
    "\n",
    "Technologies:\n",
    "\n",
    "- **Amazon Bedrock**: Amazon Bedrock is a fully managed service that offers a choice of high-performing foundation models (FMs) from leading AI companies like AI21 Labs, Anthropic, Cohere, Meta, Mistral AI, Stability AI, and Amazon via a single API\n",
    "\n",
    "- **Stable Diffusion 3 Models**: SD3 Ultra 1.0 is the latest image generation model that is tailored towards more photorealistic outputs with more detailed imagery and composition compared to previous SD models, offering enhanced image composition and face generation that results in stunning visuals and realistic aesthetics.\n",
    "\n",
    "- **Anthropic Claude 3 Model**: Claude3 is a family of state-of-the-art large language models developed by Anthropic, offering 200k context window.\n",
    "\n",
    "\n",
    "References:\n",
    "\n",
    "- [Amazon Bedrock SD 3.0 Documentation](https://docs.aws.amazon.com/bedrock/latest/userguide/model-parameters-diffusion-1-0-image-image.html)\n",
    "- [Stability.ai API Documentation](https://platform.stability.ai/docs/api-reference#tag/v1generation/operation/imageToImage)\n"
   ]
  },
  {
   "cell_type": "markdown",
   "metadata": {},
   "source": [
    "## Prerequisites\n"
   ]
  },
  {
   "cell_type": "markdown",
   "metadata": {},
   "source": [
    "### Python Environment\n",
    "\n",
    "Create a virtual Python environment and install the required packages.\n"
   ]
  },
  {
   "cell_type": "code",
   "execution_count": null,
   "metadata": {
    "tags": [],
    "vscode": {
     "languageId": "shellscript"
    }
   },
   "outputs": [],
   "source": [
    "%%sh\n",
    "# Install Python requirements\n",
    "python3 -m pip install -r requirements.txt -Uq"
   ]
  },
  {
   "cell_type": "markdown",
   "metadata": {},
   "source": [
    "### Authenticate with Your AWS Credentials\n",
    "\n",
    "Your method of authentication may vary depending on your environment.\n"
   ]
  },
  {
   "cell_type": "code",
   "execution_count": null,
   "metadata": {
    "tags": []
   },
   "outputs": [],
   "source": [
    "# Authenticate with AWS using your credentials\n",
    "\n",
    "import os\n",
    "\n",
    "os.environ[\"AWS_ACCESS_KEY_ID\"] = \"\"\n",
    "os.environ[\"AWS_SECRET_ACCESS_KEY\"] = \"\"\n",
    "os.environ[\"AWS_SESSION_TOKEN\"] = \"\""
   ]
  },
  {
   "cell_type": "markdown",
   "metadata": {},
   "source": [
    "## Define functions\n",
    "Define the text-to-image, image-to-image and other utility functions"
   ]
  },
  {
   "cell_type": "code",
   "execution_count": null,
   "metadata": {
    "tags": []
   },
   "outputs": [],
   "source": [
    "import base64\n",
    "import io\n",
    "import json\n",
    "import logging\n",
    "import boto3\n",
    "from PIL import Image\n",
    "import time\n",
    "from enum import Enum, unique\n",
    "\n",
    "from botocore.exceptions import ClientError\n",
    "\n",
    "GENERATED_IMAGES = \"./generated_images\"\n"
   ]
  },
  {
   "cell_type": "code",
   "execution_count": null,
   "metadata": {
    "tags": []
   },
   "outputs": [],
   "source": [
    "# Amazon Bedrock Model ID used throughout this notebook\n",
    "# Model IDs: https://docs.aws.amazon.com/bedrock/latest/userguide/model-ids.html#model-ids-arns\n",
    "MODEL_ID = \"stability.stable-image-ultra-v1:0\" \n"
   ]
  },
  {
   "cell_type": "code",
   "execution_count": null,
   "metadata": {
    "tags": []
   },
   "outputs": [],
   "source": [
    "directory = \"./generated_images\"\n",
    "if not os.path.exists(directory):\n",
    "    os.makedirs(directory)"
   ]
  },
  {
   "cell_type": "markdown",
   "metadata": {
    "jp-MarkdownHeadingCollapsed": true
   },
   "source": [
    "### Define text to image function"
   ]
  },
  {
   "cell_type": "code",
   "execution_count": null,
   "metadata": {
    "tags": []
   },
   "outputs": [],
   "source": [
    "# Copyright Amazon.com, Inc. or its affiliates. All Rights Reserved.\n",
    "# SPDX-License-Identifier: Apache-2.0\n",
    "\"\"\"\n",
    "Shows how to generate an image with SD3 Ultra 1.0.\n",
    "\"\"\"\n",
    "\n",
    "class ImageError(Exception):\n",
    "    \"\"\"\n",
    "    Custom exception for errors returned by SD3 Ultra 1.0.\n",
    "    \"\"\"\n",
    "\n",
    "    def __init__(self, message):\n",
    "        self.message = message\n",
    "\n",
    "\n",
    "# Set up logging for notebook environment\n",
    "logger = logging.getLogger(__name__)\n",
    "if logger.hasHandlers():\n",
    "    logger.handlers.clear()\n",
    "handler = logging.StreamHandler()\n",
    "logger.addHandler(handler)\n",
    "formatter = logging.Formatter(\"%(asctime)s - %(levelname)s - %(message)s\")\n",
    "handler.setFormatter(formatter)\n",
    "logger.setLevel(logging.INFO)\n",
    "\n",
    "\n",
    "def generate_image_from_text(model_id, body):\n",
    "    \"\"\"\n",
    "    Generate an image using SD3 Ultra 1.0 on demand.\n",
    "    Args:\n",
    "        model_id (str): The model ID to use.\n",
    "        body (str) : The request body to use.\n",
    "    Returns:\n",
    "        image_bytes (bytes): The image generated by the model.\n",
    "    \"\"\"\n",
    "\n",
    "    logger.info(\"Generating image with SD3 Ultra 1.0 model %s\", model_id)\n",
    "\n",
    "    bedrock = boto3.client(\"bedrock-runtime\", region_name=\"us-west-2\")\n",
    "    \n",
    "    response = bedrock.invoke_model(modelId=model_id,body=body)\n",
    "    response_body= json.loads(response[\"body\"].read())\n",
    "    image_data = base64.b64decode(response_body.get(\"images\")[0])\n",
    "\n",
    "    logger.info(\"Successfully generated image with the SD3 Ultra 1.0 model %s\", model_id)\n",
    "    return image_data\n",
    "\n",
    "def text_to_image_request(\n",
    "    model_id,\n",
    "    positive_prompt,\n",
    "    # negative_prompt,\n",
    "    save_image_path=None,\n",
    "    seed=1664300763\n",
    "):\n",
    "    \"\"\"\n",
    "    Args:\n",
    "        model_id (str): The model ID to use.\n",
    "        positive_prompt (str): The positive prompt to use.\n",
    "    \"\"\"\n",
    "    \n",
    "    # Build request body\n",
    "    body = json.dumps(\n",
    "        {\n",
    "            \"prompt\": positive_prompt, \n",
    "            \"mode\" : \"text-to-image\"\n",
    "        }\n",
    "    )\n",
    "\n",
    "    # Generate and save image\n",
    "    try:\n",
    "        image = generate_image_from_text(model_id=model_id, body=body)\n",
    "\n",
    "        if  save_image_path:\n",
    "            generated_image_path = save_image_path\n",
    "        else:\n",
    "            epoch_time = int(time.time())\n",
    "            generated_image_path = f\"{GENERATED_IMAGES}/image_{epoch_time}.jpg\"\n",
    "        \n",
    "        logger.info(f\"Generated image: {generated_image_path}\")\n",
    "        with open(generated_image_path, \"wb\") as file:\n",
    "            file.write(image)\n",
    "\n",
    "        print(f\"The generated image has been saved to {generated_image_path}.\")\n",
    "        \n",
    "    except ClientError as err:\n",
    "        message = err.response[\"Error\"][\"Message\"]\n",
    "        logger.error(\"A client error occurred: %s\", message)\n",
    "    except ImageError as err:\n",
    "        logger.error(err.message)\n",
    "\n",
    "    else:\n",
    "        logger.info(f\"Finished generating image with SD3 Ultra 1.0 model {model_id}.\")"
   ]
  },
  {
   "cell_type": "code",
   "execution_count": null,
   "metadata": {
    "tags": []
   },
   "outputs": [],
   "source": [
    "# Copyright Amazon.com, Inc. or its affiliates. All Rights Reserved.\n",
    "# SPDX-License-Identifier: Apache-2.0\n",
    "\"\"\"\n",
    "Shows how to generate an image from a reference image with SD3 Ultra 1.0 (on demand).\n",
    "\"\"\"\n",
    "\n",
    "class ImageToImageRequest:\n",
    "    \"\"\"\n",
    "    Class for handling image to image request parameters.\n",
    "    \"\"\"\n",
    "\n",
    "    def __init__(\n",
    "        self,\n",
    "        image_width,\n",
    "        image_height,\n",
    "        positive_prompt,\n",
    "        # negative_prompt,\n",
    "        init_image_mode=\"IMAGE_STRENGTH\",\n",
    "        image_strength=0.5,\n",
    "        cfg_scale=7,\n",
    "        clip_guidance_preset=\"SLOWER\",\n",
    "        sampler=\"K_DPMPP_2M\",\n",
    "        samples=1,\n",
    "        seed=1,\n",
    "        steps=30,\n",
    "        style_preset=\"photographic\",\n",
    "        extras=None,\n",
    "    ):\n",
    "        self.image_width = image_width\n",
    "        self.image_height = image_height\n",
    "        self.positive_prompt = positive_prompt\n",
    "        # self.negative_prompt = negative_prompt\n",
    "        self.init_image_mode = init_image_mode\n",
    "        self.image_strength = image_strength\n",
    "        self.cfg_scale = cfg_scale\n",
    "        self.clip_guidance_preset = clip_guidance_preset\n",
    "        self.sampler = sampler\n",
    "        self.samples = samples\n",
    "        self.seed = seed\n",
    "        self.steps = steps\n",
    "        self.style_preset = style_preset\n",
    "        self.extras = extras\n",
    "\n",
    "\n",
    "@unique\n",
    "class StylesPresets(Enum):\n",
    "    \"\"\"\n",
    "    Enumerator for SD3 Ultra 1.0 style presets.\n",
    "    \"\"\"\n",
    "\n",
    "    THREE_D_MODEL = \"3d-model\"\n",
    "    ANALOG_FILM = \"analog-film\"\n",
    "    ANIME = \"anime\"\n",
    "    CINEMATIC = \"cinematic\"\n",
    "    COMIC_BOOK = \"comic-book\"\n",
    "    DIGITAL_ART = \"digital-art\"\n",
    "    ENHANCE = \"enhance\"\n",
    "    FANTASY_ART = \"fantasy-art\"\n",
    "    ISOMETRIC = \"isometric\"\n",
    "    LINE_ART = \"line-art\"\n",
    "    LOW_POLY = \"low-poly\"\n",
    "    MODELING_COMPOUND = \"modeling-compound\"\n",
    "    NEON_PUNK = \"neon-punk\"\n",
    "    ORIGAMI = \"origami\"\n",
    "    PHOTOGRAPHIC = \"photographic\"\n",
    "    PIXEL_ART = \"pixel-art\"\n",
    "    TILE_TEXTURE = \"tile-texture\"\n",
    "\n",
    "\n",
    "def generate_image_from_image(model_id, body):\n",
    "    \"\"\"\n",
    "    Generate an image using SD 3.0 on demand.\n",
    "    Args:\n",
    "        model_id (str): The model ID to use.\n",
    "        body (str) : The request body to use.\n",
    "    Returns:\n",
    "        image_bytes (bytes): The image generated by the model.\n",
    "    \"\"\"\n",
    "\n",
    "    logger.info(\"Generating image with SD3 Ultra 1.0 model %s\", model_id)\n",
    "\n",
    "    bedrock = boto3.client(service_name=\"bedrock-runtime\")\n",
    "\n",
    "    accept = \"application/json\"\n",
    "    content_type = \"application/json\"\n",
    "\n",
    "    response = bedrock.invoke_model(\n",
    "        body=body, modelId=model_id, accept=accept, contentType=content_type\n",
    "    )\n",
    "    response_body = json.loads(response.get(\"body\").read())\n",
    "    logger.info(f\"Bedrock result: {response_body['result']}\")\n",
    "\n",
    "    base64_image = response_body.get(\"artifacts\")[0].get(\"base64\")\n",
    "    base64_bytes = base64_image.encode(\"ascii\")\n",
    "    image_bytes = base64.b64decode(base64_bytes)\n",
    "\n",
    "    finish_reason = response_body.get(\"artifacts\")[0].get(\"finishReason\")\n",
    "\n",
    "    if finish_reason == \"ERROR\" or finish_reason == \"CONTENT_FILTERED\":\n",
    "        raise ImageError(f\"Image generation error. Error code is {finish_reason}\")\n",
    "\n",
    "    logger.info(\"Successfully generated image with the SD3 Ultra 1.0 model %s\", model_id)\n",
    "\n",
    "    return image_bytes\n",
    "\n",
    "\n",
    "def image_to_image_request(\n",
    "    imageToImageRequest,\n",
    "    source_image,\n",
    "    save_image_path=None,\n",
    "    save_image_folder=None,\n",
    "):\n",
    "    \"\"\"\n",
    "    Args:\n",
    "        imageToImageRequest (ImageToImageRequest): The image to image request to use.\n",
    "        generated_images (str): The directory to save the generated images to.\n",
    "        source_image (str): The source image to use.\n",
    "    \"\"\"\n",
    "\n",
    "    # Read source image from file and encode as base64 strings\n",
    "    image = Image.open(source_image)\n",
    "    new_image = image.resize(\n",
    "        (imageToImageRequest.image_width, imageToImageRequest.image_height)\n",
    "    )\n",
    "\n",
    "    new_image.save(f\"{source_image[:-4]}_tmp.jpg\")\n",
    "\n",
    "    with open(f\"{source_image[:-4]}_tmp.jpg\", \"rb\") as image_file:\n",
    "        init_image = base64.b64encode(image_file.read()).decode(\"utf8\")\n",
    "\n",
    "    # Build request body\n",
    "    body = json.dumps(\n",
    "        {\n",
    "            \"text_prompts\": [\n",
    "                {\"text\": imageToImageRequest.positive_prompt, \"weight\": 1}\n",
    "                # {\"text\": imageToImageRequest.negative_prompt, \"weight\": -1},\n",
    "            ],\n",
    "            \"init_image\": init_image,\n",
    "            \"init_image_mode\": imageToImageRequest.init_image_mode,\n",
    "            \"image_strength\": imageToImageRequest.image_strength,\n",
    "            \"cfg_scale\": imageToImageRequest.cfg_scale,\n",
    "            \"clip_guidance_preset\": imageToImageRequest.clip_guidance_preset,\n",
    "            \"sampler\": imageToImageRequest.sampler,\n",
    "            \"samples\": imageToImageRequest.samples,\n",
    "            \"seed\": imageToImageRequest.seed,\n",
    "            \"steps\": imageToImageRequest.steps,\n",
    "            \"style_preset\": imageToImageRequest.style_preset,\n",
    "        }\n",
    "    )\n",
    "\n",
    "    try:\n",
    "        logger.info(f\"Source image: {source_image}\")\n",
    "        image_bytes = generate_image_from_image(model_id=MODEL_ID, body=body)\n",
    "        image = Image.open(io.BytesIO(image_bytes))\n",
    "        epoch_time = int(time.time())\n",
    "\n",
    "        if save_image_path is not None:\n",
    "            generated_image_path = save_image_path\n",
    "        elif save_image_folder is not None:\n",
    "            generated_image_path = f\"{save_image_folder}/image_{epoch_time}_{imageToImageRequest.seed}_{imageToImageRequest.sampler}_{imageToImageRequest.image_strength}_{imageToImageRequest.cfg_scale}_{imageToImageRequest.steps}_{imageToImageRequest.style_preset}.jpg\"\n",
    "        else:\n",
    "            generated_image_path = f\"{GENERATED_IMAGES}/image_{epoch_time}_{imageToImageRequest.seed}_{imageToImageRequest.sampler}_{imageToImageRequest.image_strength}_{imageToImageRequest.cfg_scale}_{imageToImageRequest.steps}_{imageToImageRequest.style_preset}.jpg\"\n",
    "\n",
    "\n",
    "        logger.info(f\"Generated image: {generated_image_path}\")\n",
    "        image.save(generated_image_path, format=\"JPEG\", quality=95)\n",
    "\n",
    "    except ClientError as err:\n",
    "        message = err.response[\"Error\"][\"Message\"]\n",
    "        logger.error(\"A client error occurred: %s\", message)\n",
    "    except ImageError as err:\n",
    "        logger.error(err.message)\n",
    "\n",
    "    else:\n",
    "        logger.info(f\"Finished generating image with SD3 Ultra 1.0 model {MODEL_ID}.\")"
   ]
  },
  {
   "cell_type": "code",
   "execution_count": null,
   "metadata": {
    "tags": []
   },
   "outputs": [],
   "source": [
    "from PIL import Image\n",
    "from IPython.display import display\n",
    "\n",
    "def display_image(source_image_name, width=None, height=None):\n",
    "    source_image = Image.open(source_image_name)\n",
    "    if width and height:\n",
    "        display(source_image.resize((width, height)))\n",
    "    else:\n",
    "        display(source_image)\n",
    "    print(source_image_name)"
   ]
  },
  {
   "cell_type": "markdown",
   "metadata": {
    "jp-MarkdownHeadingCollapsed": true
   },
   "source": [
    "### Define the Claude function"
   ]
  },
  {
   "cell_type": "code",
   "execution_count": null,
   "metadata": {
    "tags": []
   },
   "outputs": [],
   "source": [
    "def invoke_claude(client, prompt, max_tokens_to_sample=2000, modelId=\"anthropic.claude-3-sonnet-20240229-v1:0\", temperature=1, top_k=250, top_p=0.999, stop_sequences=[], retry=3):\n",
    "    body_dict = {\"messages\": [\n",
    "          {\n",
    "            \"role\": \"user\",\n",
    "            \"content\": [\n",
    "              {\n",
    "                \"type\": \"text\",\n",
    "                \"text\": prompt\n",
    "              }\n",
    "            ]}],\n",
    "            \"max_tokens\": max_tokens_to_sample,\n",
    "            \"temperature\": temperature,\n",
    "            \"top_k\": top_k,\n",
    "            \"top_p\": top_p,\n",
    "            \"stop_sequences\": stop_sequences+[\"\\n\\nHuman:\"], \n",
    "            \"anthropic_version\": \"bedrock-2023-05-31\"}\n",
    "    body = json.dumps(body_dict)\n",
    "\n",
    "    request = {\n",
    "      \"modelId\": modelId,\n",
    "      \"contentType\": \"application/json\",\n",
    "      \"accept\": \"application/json\",\n",
    "      \"body\": body\n",
    "    }\n",
    "    \n",
    "    for trial in range(retry):\n",
    "        try:\n",
    "            response = client.invoke_model(**request)\n",
    "            response_body = json.loads(response.get('body').read())\n",
    "            break\n",
    "        except Exception as e:\n",
    "            print(str(e))\n",
    "            print(\"Bedrock request is throttled. Retry in a minute. (In production this should not happen.)\")\n",
    "            time.sleep(60)\n",
    "    \n",
    "    return response_body[\"content\"][0][\"text\"]"
   ]
  },
  {
   "cell_type": "markdown",
   "metadata": {},
   "source": [
    "## Let's start the Ad demo"
   ]
  },
  {
   "cell_type": "markdown",
   "metadata": {},
   "source": [
    "### Generate the advertising concepts"
   ]
  },
  {
   "cell_type": "code",
   "execution_count": null,
   "metadata": {
    "tags": []
   },
   "outputs": [],
   "source": [
    "prompt = \"\"\"You are a seasoned veteran in the advertising industry with a wealth of experience in creating captivating and impactful campaigns. Your task is to generate five different creative advertising concepts for our new line of shoes under the brand \"YGS\".\n",
    "Our product range includes running shoes, soccer shoes, and training shoes. Our target audience is the young generation, a demographic known for their energy, trendiness, and desire to express their individuality.\n",
    "Each advertising concept should seamlessly incorporate the following elements:\n",
    "\n",
    "1. The specific type of shoe (running, soccer, tennis, hiking or training) and its intended usage.\n",
    "2. A vivid description of the colors and unique features that make our shoes stand out.\n",
    "3. A compelling scenario that vividly illustrates when and where these shoes would be worn, capturing the essence of the active lifestyle our target audience embraces.\n",
    "\n",
    "Your concepts should be fresh, engaging, and resonate with the youthful spirit of our target market. Creativity, originality, and a deep understanding of our audience's aspirations and passions should shine through in your advertising ideas.\n",
    "Remember, the goal is to craft compelling narratives that not only showcase our product's features but also tap into the emotions and desires of the young generation, inspiring them to embrace our brand as an extension of their vibrant lifestyles.\n",
    "\n",
    "The output format should follow below Json format:\n",
    "\n",
    "[\n",
    "    {\n",
    "        \"concept\": \"xxx\",\n",
    "        \"Description\": \"xxx\",\n",
    "        \"Scenario\": \"xxx\"\n",
    "    },\n",
    "    {\n",
    "        \"concept\": \"xxx\",\n",
    "        \"Description\": \"xxx\",\n",
    "        \"Scenario\": \"xxx\"\n",
    "    }\n",
    "\n",
    "    ...\n",
    "]\n",
    "\n",
    "\"\"\"\n",
    "client = boto3.client(service_name=\"bedrock-runtime\")\n",
    "result = invoke_claude(client, prompt)\n",
    "print(result)"
   ]
  },
  {
   "cell_type": "markdown",
   "metadata": {},
   "source": [
    "### Parse the advertising concepts and generate prompts for Stable Image Ultra"
   ]
  },
  {
   "cell_type": "code",
   "execution_count": null,
   "metadata": {
    "tags": []
   },
   "outputs": [],
   "source": [
    "import json\n",
    "\n",
    "def parse_json_string_to_prompt(json_string):\n",
    "    prompts = []\n",
    "    internal_prompt = \"\"\"You are an expert to use stable diffusion model to generate shoes ad posters. Please use the following content to generate the positive prompts for stable diffusion model:\n",
    "    - \"Concept\": {Concept}\n",
    "    - \"Description\": {Description}\n",
    "    - \"Scenario\": {Scenario}\n",
    "    \n",
    "    Output format shoud be Json format as below:\n",
    "    [\n",
    "        {\n",
    "            \"positive_prompt\": \"xxx\",\n",
    "        }\n",
    "    ]\n",
    "    please add below sentence to the positive prompt:\n",
    "    text \\'YGS\\' on the Shoes as a logo.\n",
    "\n",
    "    \"\"\"\n",
    "    try:\n",
    "        data = json.loads(json_string)\n",
    "        for item in data:\n",
    "            final_prompt = internal_prompt.replace(\"{Concept}\", item['concept']).replace(\"{Description}\", item['Description']).replace(\"{Scenario}\", item['Scenario'])\n",
    "            generated_prompt = invoke_claude(client, final_prompt)\n",
    "            print(f\"generated_prompt: {generated_prompt}\")\n",
    "            prompts.append(generated_prompt)\n",
    "    except json.JSONDecodeError:\n",
    "        print(\"Invalid JSON string\")\n",
    "    \n",
    "    return prompts\n",
    "\n",
    "json_string =result\n",
    "\n",
    "prompts = parse_json_string_to_prompt(json_string)\n",
    "print(prompts)\n"
   ]
  },
  {
   "cell_type": "markdown",
   "metadata": {},
   "source": [
    "### Generate the Ad poster for the advertising concepts"
   ]
  },
  {
   "cell_type": "code",
   "execution_count": null,
   "metadata": {
    "tags": []
   },
   "outputs": [],
   "source": [
    "for index, prompt_json in enumerate(prompts):\n",
    "    prompt = json.loads(prompt_json)\n",
    "    for item in prompt:\n",
    "        if \"positive_prompt\" in item:\n",
    "            POSITIVE_PROMPT =item[\"positive_prompt\"]\n",
    "            print(POSITIVE_PROMPT)\n",
    "\n",
    "    SAVE_IMAGE_PATH = f\"./generated_images/ad_poster_{index}.jpg\"\n",
    "    print(f\"Attempting to save image to: {SAVE_IMAGE_PATH}\")\n",
    "\n",
    "    text_to_image_request(\n",
    "        MODEL_ID,\n",
    "        POSITIVE_PROMPT,\n",
    "        SAVE_IMAGE_PATH\n",
    "    )"
   ]
  }
 ],
 "metadata": {
  "availableInstances": [
   {
    "_defaultOrder": 0,
    "_isFastLaunch": true,
    "category": "General purpose",
    "gpuNum": 0,
    "hideHardwareSpecs": false,
    "memoryGiB": 4,
    "name": "ml.t3.medium",
    "vcpuNum": 2
   },
   {
    "_defaultOrder": 1,
    "_isFastLaunch": false,
    "category": "General purpose",
    "gpuNum": 0,
    "hideHardwareSpecs": false,
    "memoryGiB": 8,
    "name": "ml.t3.large",
    "vcpuNum": 2
   },
   {
    "_defaultOrder": 2,
    "_isFastLaunch": false,
    "category": "General purpose",
    "gpuNum": 0,
    "hideHardwareSpecs": false,
    "memoryGiB": 16,
    "name": "ml.t3.xlarge",
    "vcpuNum": 4
   },
   {
    "_defaultOrder": 3,
    "_isFastLaunch": false,
    "category": "General purpose",
    "gpuNum": 0,
    "hideHardwareSpecs": false,
    "memoryGiB": 32,
    "name": "ml.t3.2xlarge",
    "vcpuNum": 8
   },
   {
    "_defaultOrder": 4,
    "_isFastLaunch": true,
    "category": "General purpose",
    "gpuNum": 0,
    "hideHardwareSpecs": false,
    "memoryGiB": 8,
    "name": "ml.m5.large",
    "vcpuNum": 2
   },
   {
    "_defaultOrder": 5,
    "_isFastLaunch": false,
    "category": "General purpose",
    "gpuNum": 0,
    "hideHardwareSpecs": false,
    "memoryGiB": 16,
    "name": "ml.m5.xlarge",
    "vcpuNum": 4
   },
   {
    "_defaultOrder": 6,
    "_isFastLaunch": false,
    "category": "General purpose",
    "gpuNum": 0,
    "hideHardwareSpecs": false,
    "memoryGiB": 32,
    "name": "ml.m5.2xlarge",
    "vcpuNum": 8
   },
   {
    "_defaultOrder": 7,
    "_isFastLaunch": false,
    "category": "General purpose",
    "gpuNum": 0,
    "hideHardwareSpecs": false,
    "memoryGiB": 64,
    "name": "ml.m5.4xlarge",
    "vcpuNum": 16
   },
   {
    "_defaultOrder": 8,
    "_isFastLaunch": false,
    "category": "General purpose",
    "gpuNum": 0,
    "hideHardwareSpecs": false,
    "memoryGiB": 128,
    "name": "ml.m5.8xlarge",
    "vcpuNum": 32
   },
   {
    "_defaultOrder": 9,
    "_isFastLaunch": false,
    "category": "General purpose",
    "gpuNum": 0,
    "hideHardwareSpecs": false,
    "memoryGiB": 192,
    "name": "ml.m5.12xlarge",
    "vcpuNum": 48
   },
   {
    "_defaultOrder": 10,
    "_isFastLaunch": false,
    "category": "General purpose",
    "gpuNum": 0,
    "hideHardwareSpecs": false,
    "memoryGiB": 256,
    "name": "ml.m5.16xlarge",
    "vcpuNum": 64
   },
   {
    "_defaultOrder": 11,
    "_isFastLaunch": false,
    "category": "General purpose",
    "gpuNum": 0,
    "hideHardwareSpecs": false,
    "memoryGiB": 384,
    "name": "ml.m5.24xlarge",
    "vcpuNum": 96
   },
   {
    "_defaultOrder": 12,
    "_isFastLaunch": false,
    "category": "General purpose",
    "gpuNum": 0,
    "hideHardwareSpecs": false,
    "memoryGiB": 8,
    "name": "ml.m5d.large",
    "vcpuNum": 2
   },
   {
    "_defaultOrder": 13,
    "_isFastLaunch": false,
    "category": "General purpose",
    "gpuNum": 0,
    "hideHardwareSpecs": false,
    "memoryGiB": 16,
    "name": "ml.m5d.xlarge",
    "vcpuNum": 4
   },
   {
    "_defaultOrder": 14,
    "_isFastLaunch": false,
    "category": "General purpose",
    "gpuNum": 0,
    "hideHardwareSpecs": false,
    "memoryGiB": 32,
    "name": "ml.m5d.2xlarge",
    "vcpuNum": 8
   },
   {
    "_defaultOrder": 15,
    "_isFastLaunch": false,
    "category": "General purpose",
    "gpuNum": 0,
    "hideHardwareSpecs": false,
    "memoryGiB": 64,
    "name": "ml.m5d.4xlarge",
    "vcpuNum": 16
   },
   {
    "_defaultOrder": 16,
    "_isFastLaunch": false,
    "category": "General purpose",
    "gpuNum": 0,
    "hideHardwareSpecs": false,
    "memoryGiB": 128,
    "name": "ml.m5d.8xlarge",
    "vcpuNum": 32
   },
   {
    "_defaultOrder": 17,
    "_isFastLaunch": false,
    "category": "General purpose",
    "gpuNum": 0,
    "hideHardwareSpecs": false,
    "memoryGiB": 192,
    "name": "ml.m5d.12xlarge",
    "vcpuNum": 48
   },
   {
    "_defaultOrder": 18,
    "_isFastLaunch": false,
    "category": "General purpose",
    "gpuNum": 0,
    "hideHardwareSpecs": false,
    "memoryGiB": 256,
    "name": "ml.m5d.16xlarge",
    "vcpuNum": 64
   },
   {
    "_defaultOrder": 19,
    "_isFastLaunch": false,
    "category": "General purpose",
    "gpuNum": 0,
    "hideHardwareSpecs": false,
    "memoryGiB": 384,
    "name": "ml.m5d.24xlarge",
    "vcpuNum": 96
   },
   {
    "_defaultOrder": 20,
    "_isFastLaunch": false,
    "category": "General purpose",
    "gpuNum": 0,
    "hideHardwareSpecs": true,
    "memoryGiB": 0,
    "name": "ml.geospatial.interactive",
    "supportedImageNames": [
     "sagemaker-geospatial-v1-0"
    ],
    "vcpuNum": 0
   },
   {
    "_defaultOrder": 21,
    "_isFastLaunch": true,
    "category": "Compute optimized",
    "gpuNum": 0,
    "hideHardwareSpecs": false,
    "memoryGiB": 4,
    "name": "ml.c5.large",
    "vcpuNum": 2
   },
   {
    "_defaultOrder": 22,
    "_isFastLaunch": false,
    "category": "Compute optimized",
    "gpuNum": 0,
    "hideHardwareSpecs": false,
    "memoryGiB": 8,
    "name": "ml.c5.xlarge",
    "vcpuNum": 4
   },
   {
    "_defaultOrder": 23,
    "_isFastLaunch": false,
    "category": "Compute optimized",
    "gpuNum": 0,
    "hideHardwareSpecs": false,
    "memoryGiB": 16,
    "name": "ml.c5.2xlarge",
    "vcpuNum": 8
   },
   {
    "_defaultOrder": 24,
    "_isFastLaunch": false,
    "category": "Compute optimized",
    "gpuNum": 0,
    "hideHardwareSpecs": false,
    "memoryGiB": 32,
    "name": "ml.c5.4xlarge",
    "vcpuNum": 16
   },
   {
    "_defaultOrder": 25,
    "_isFastLaunch": false,
    "category": "Compute optimized",
    "gpuNum": 0,
    "hideHardwareSpecs": false,
    "memoryGiB": 72,
    "name": "ml.c5.9xlarge",
    "vcpuNum": 36
   },
   {
    "_defaultOrder": 26,
    "_isFastLaunch": false,
    "category": "Compute optimized",
    "gpuNum": 0,
    "hideHardwareSpecs": false,
    "memoryGiB": 96,
    "name": "ml.c5.12xlarge",
    "vcpuNum": 48
   },
   {
    "_defaultOrder": 27,
    "_isFastLaunch": false,
    "category": "Compute optimized",
    "gpuNum": 0,
    "hideHardwareSpecs": false,
    "memoryGiB": 144,
    "name": "ml.c5.18xlarge",
    "vcpuNum": 72
   },
   {
    "_defaultOrder": 28,
    "_isFastLaunch": false,
    "category": "Compute optimized",
    "gpuNum": 0,
    "hideHardwareSpecs": false,
    "memoryGiB": 192,
    "name": "ml.c5.24xlarge",
    "vcpuNum": 96
   },
   {
    "_defaultOrder": 29,
    "_isFastLaunch": true,
    "category": "Accelerated computing",
    "gpuNum": 1,
    "hideHardwareSpecs": false,
    "memoryGiB": 16,
    "name": "ml.g4dn.xlarge",
    "vcpuNum": 4
   },
   {
    "_defaultOrder": 30,
    "_isFastLaunch": false,
    "category": "Accelerated computing",
    "gpuNum": 1,
    "hideHardwareSpecs": false,
    "memoryGiB": 32,
    "name": "ml.g4dn.2xlarge",
    "vcpuNum": 8
   },
   {
    "_defaultOrder": 31,
    "_isFastLaunch": false,
    "category": "Accelerated computing",
    "gpuNum": 1,
    "hideHardwareSpecs": false,
    "memoryGiB": 64,
    "name": "ml.g4dn.4xlarge",
    "vcpuNum": 16
   },
   {
    "_defaultOrder": 32,
    "_isFastLaunch": false,
    "category": "Accelerated computing",
    "gpuNum": 1,
    "hideHardwareSpecs": false,
    "memoryGiB": 128,
    "name": "ml.g4dn.8xlarge",
    "vcpuNum": 32
   },
   {
    "_defaultOrder": 33,
    "_isFastLaunch": false,
    "category": "Accelerated computing",
    "gpuNum": 4,
    "hideHardwareSpecs": false,
    "memoryGiB": 192,
    "name": "ml.g4dn.12xlarge",
    "vcpuNum": 48
   },
   {
    "_defaultOrder": 34,
    "_isFastLaunch": false,
    "category": "Accelerated computing",
    "gpuNum": 1,
    "hideHardwareSpecs": false,
    "memoryGiB": 256,
    "name": "ml.g4dn.16xlarge",
    "vcpuNum": 64
   },
   {
    "_defaultOrder": 35,
    "_isFastLaunch": false,
    "category": "Accelerated computing",
    "gpuNum": 1,
    "hideHardwareSpecs": false,
    "memoryGiB": 61,
    "name": "ml.p3.2xlarge",
    "vcpuNum": 8
   },
   {
    "_defaultOrder": 36,
    "_isFastLaunch": false,
    "category": "Accelerated computing",
    "gpuNum": 4,
    "hideHardwareSpecs": false,
    "memoryGiB": 244,
    "name": "ml.p3.8xlarge",
    "vcpuNum": 32
   },
   {
    "_defaultOrder": 37,
    "_isFastLaunch": false,
    "category": "Accelerated computing",
    "gpuNum": 8,
    "hideHardwareSpecs": false,
    "memoryGiB": 488,
    "name": "ml.p3.16xlarge",
    "vcpuNum": 64
   },
   {
    "_defaultOrder": 38,
    "_isFastLaunch": false,
    "category": "Accelerated computing",
    "gpuNum": 8,
    "hideHardwareSpecs": false,
    "memoryGiB": 768,
    "name": "ml.p3dn.24xlarge",
    "vcpuNum": 96
   },
   {
    "_defaultOrder": 39,
    "_isFastLaunch": false,
    "category": "Memory Optimized",
    "gpuNum": 0,
    "hideHardwareSpecs": false,
    "memoryGiB": 16,
    "name": "ml.r5.large",
    "vcpuNum": 2
   },
   {
    "_defaultOrder": 40,
    "_isFastLaunch": false,
    "category": "Memory Optimized",
    "gpuNum": 0,
    "hideHardwareSpecs": false,
    "memoryGiB": 32,
    "name": "ml.r5.xlarge",
    "vcpuNum": 4
   },
   {
    "_defaultOrder": 41,
    "_isFastLaunch": false,
    "category": "Memory Optimized",
    "gpuNum": 0,
    "hideHardwareSpecs": false,
    "memoryGiB": 64,
    "name": "ml.r5.2xlarge",
    "vcpuNum": 8
   },
   {
    "_defaultOrder": 42,
    "_isFastLaunch": false,
    "category": "Memory Optimized",
    "gpuNum": 0,
    "hideHardwareSpecs": false,
    "memoryGiB": 128,
    "name": "ml.r5.4xlarge",
    "vcpuNum": 16
   },
   {
    "_defaultOrder": 43,
    "_isFastLaunch": false,
    "category": "Memory Optimized",
    "gpuNum": 0,
    "hideHardwareSpecs": false,
    "memoryGiB": 256,
    "name": "ml.r5.8xlarge",
    "vcpuNum": 32
   },
   {
    "_defaultOrder": 44,
    "_isFastLaunch": false,
    "category": "Memory Optimized",
    "gpuNum": 0,
    "hideHardwareSpecs": false,
    "memoryGiB": 384,
    "name": "ml.r5.12xlarge",
    "vcpuNum": 48
   },
   {
    "_defaultOrder": 45,
    "_isFastLaunch": false,
    "category": "Memory Optimized",
    "gpuNum": 0,
    "hideHardwareSpecs": false,
    "memoryGiB": 512,
    "name": "ml.r5.16xlarge",
    "vcpuNum": 64
   },
   {
    "_defaultOrder": 46,
    "_isFastLaunch": false,
    "category": "Memory Optimized",
    "gpuNum": 0,
    "hideHardwareSpecs": false,
    "memoryGiB": 768,
    "name": "ml.r5.24xlarge",
    "vcpuNum": 96
   },
   {
    "_defaultOrder": 47,
    "_isFastLaunch": false,
    "category": "Accelerated computing",
    "gpuNum": 1,
    "hideHardwareSpecs": false,
    "memoryGiB": 16,
    "name": "ml.g5.xlarge",
    "vcpuNum": 4
   },
   {
    "_defaultOrder": 48,
    "_isFastLaunch": false,
    "category": "Accelerated computing",
    "gpuNum": 1,
    "hideHardwareSpecs": false,
    "memoryGiB": 32,
    "name": "ml.g5.2xlarge",
    "vcpuNum": 8
   },
   {
    "_defaultOrder": 49,
    "_isFastLaunch": false,
    "category": "Accelerated computing",
    "gpuNum": 1,
    "hideHardwareSpecs": false,
    "memoryGiB": 64,
    "name": "ml.g5.4xlarge",
    "vcpuNum": 16
   },
   {
    "_defaultOrder": 50,
    "_isFastLaunch": false,
    "category": "Accelerated computing",
    "gpuNum": 1,
    "hideHardwareSpecs": false,
    "memoryGiB": 128,
    "name": "ml.g5.8xlarge",
    "vcpuNum": 32
   },
   {
    "_defaultOrder": 51,
    "_isFastLaunch": false,
    "category": "Accelerated computing",
    "gpuNum": 1,
    "hideHardwareSpecs": false,
    "memoryGiB": 256,
    "name": "ml.g5.16xlarge",
    "vcpuNum": 64
   },
   {
    "_defaultOrder": 52,
    "_isFastLaunch": false,
    "category": "Accelerated computing",
    "gpuNum": 4,
    "hideHardwareSpecs": false,
    "memoryGiB": 192,
    "name": "ml.g5.12xlarge",
    "vcpuNum": 48
   },
   {
    "_defaultOrder": 53,
    "_isFastLaunch": false,
    "category": "Accelerated computing",
    "gpuNum": 4,
    "hideHardwareSpecs": false,
    "memoryGiB": 384,
    "name": "ml.g5.24xlarge",
    "vcpuNum": 96
   },
   {
    "_defaultOrder": 54,
    "_isFastLaunch": false,
    "category": "Accelerated computing",
    "gpuNum": 8,
    "hideHardwareSpecs": false,
    "memoryGiB": 768,
    "name": "ml.g5.48xlarge",
    "vcpuNum": 192
   },
   {
    "_defaultOrder": 55,
    "_isFastLaunch": false,
    "category": "Accelerated computing",
    "gpuNum": 8,
    "hideHardwareSpecs": false,
    "memoryGiB": 1152,
    "name": "ml.p4d.24xlarge",
    "vcpuNum": 96
   },
   {
    "_defaultOrder": 56,
    "_isFastLaunch": false,
    "category": "Accelerated computing",
    "gpuNum": 8,
    "hideHardwareSpecs": false,
    "memoryGiB": 1152,
    "name": "ml.p4de.24xlarge",
    "vcpuNum": 96
   },
   {
    "_defaultOrder": 57,
    "_isFastLaunch": false,
    "category": "Accelerated computing",
    "gpuNum": 0,
    "hideHardwareSpecs": false,
    "memoryGiB": 32,
    "name": "ml.trn1.2xlarge",
    "vcpuNum": 8
   },
   {
    "_defaultOrder": 58,
    "_isFastLaunch": false,
    "category": "Accelerated computing",
    "gpuNum": 0,
    "hideHardwareSpecs": false,
    "memoryGiB": 512,
    "name": "ml.trn1.32xlarge",
    "vcpuNum": 128
   },
   {
    "_defaultOrder": 59,
    "_isFastLaunch": false,
    "category": "Accelerated computing",
    "gpuNum": 0,
    "hideHardwareSpecs": false,
    "memoryGiB": 512,
    "name": "ml.trn1n.32xlarge",
    "vcpuNum": 128
   }
  ],
  "instance_type": "ml.t3.medium",
  "kernelspec": {
   "display_name": "Python 3 (ipykernel)",
   "language": "python",
   "name": "python3"
  },
  "language_info": {
   "codemirror_mode": {
    "name": "ipython",
    "version": 3
   },
   "file_extension": ".py",
   "mimetype": "text/x-python",
   "name": "python",
   "nbconvert_exporter": "python",
   "pygments_lexer": "ipython3",
   "version": "3.10.14"
  }
 },
 "nbformat": 4,
 "nbformat_minor": 4
}
