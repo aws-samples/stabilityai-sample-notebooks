{
 "cells": [
  {
   "cell_type": "markdown",
   "id": "2b7a3765-8c7f-46f5-b4fb-fa3b3c958bc2",
   "metadata": {},
   "source": [
    "# Use this notebook to try out Stability AI's Image Services on Amazon Bedrock."
   ]
  },
  {
   "cell_type": "markdown",
   "id": "b1338092-80cc-49de-a82b-a6c722f51d10",
   "metadata": {},
   "source": [
    "Stability AI Image Services are available in four categories:\n",
    "- **[Generate](#Generation)**: The best text-to-image generation services. These services leverage the latest Stable Diffusion models from Stability AI, with specialist fine-tunes and microservices embedded in workflows. Among these, Stable Image Core is the flagship service that requires no prompt engineering to get high quality images in diverse styles\n",
    "\n",
    "    - [Stable Image Ultra](#Stable-Image-Ultra) - Stable Image Ultra creates the highest quality images with unprecedented prompt understanding. Ultra excels in typography, complex compositions, dynamic lighting, vibrant hues, and overall cohesion and structure of an art piece\n",
    "    - [Stable Image Core](#Stable-Image-Core) - Stable Image Core represents the best quality achievable at high speed\n",
    "    - [Stable Diffusion 3.5](#Stable-Diffusion-3.5) - 8 billion parameters, with superior quality and prompt adherence, this base model is the most powerful in the Stable Diffusion family. This model is ideal for professional use cases at 1 megapixel resolution.\n",
    "      \n",
    "\n",
    "- **[Edit](#Edit-Image-Services)**: The most effective AI-based image editing services, including inpainting with masks (generative fill), or with words. Includes niche tools for product placement and advertising, as well as basic tools such as background removal.\n",
    "\n",
    "    - [Erase](#Stable-Image-Erase) - The Erase service removes unwanted objects, such as blemishes on portraits or items on desks, using image masks.\n",
    "    - [Inpaint](#Stable-Image-Inpaint) - Intelligently modify images by filling in or replacing specified areas with new content based on the content of a \"mask\" image.\n",
    "    - [Search and Replace](#Stable-Image-Search-and-Replace) - The Search and Replace service is a specific version of inpainting that does not require a mask. Instead, users can leverage a search_prompt to identify an object in simple language to be replaced. The service will automatically segment the object and replace it with the object requested in the prompt.\n",
    "    - [Search and Recolor](#Stable-Image-Search-and-Recolor) - The Search and Recolor service provides the ability to change the color of a specific object in an image using a prompt. This service is a specific version of inpainting that does not require a mask.\n",
    "    - [Remove Background](#Stable-Image-Remove-Background) - The Remove Background service accurately segments the foreground from an image and implements and removes the background.\n",
    "      \n",
    "\n",
    "- **[Control](#Control-Image-Services)**: The best image to image services. May take prompts, maps and other guides. These services leverage ControlNets and similar technologies built on Stable Diffusion models.\n",
    "\n",
    "    - [Sketch](#Stable-Image-Sketch) - Upgrades rough hand-drawn sketches to refined outputs with precise control\n",
    "    - [Structure](#Stable-Image-Structure) - Generate images by maintaining the structure of an input image, making it especially valuable for advanced content creation scenarios such as recreating scenes or rendering characters from models.\n",
    "    - [Style Guide](#Stable-Image-Style-Guide) - Extracts stylistic elements from an input image (control image) and uses it to guide the creation of an output image based on the prompt.\n",
    "    - [Style Transfer](#Stable-Image-Style-Transfer) - Applies visual characteristics from reference style images to target images. Helps create consistent content across multiple assets.\n",
    "      "
   ]
  },
  {
   "cell_type": "markdown",
   "id": "901be826-346f-41f0-95be-bc5867e31841",
   "metadata": {},
   "source": [
    "This notebook has been tested on Amazon SageMaker AI Notebook Instances and within Amazon SageMaker AI Studio.\n",
    "\n",
    "### Pre-Requisites\n",
    "1. [AWS IAM Permissions](https://docs.aws.amazon.com/bedrock/latest/userguide/model-access-permissions.html)\n",
    "1. [Amazon Bedrock Model Access](https://docs.aws.amazon.com/bedrock/latest/userguide/model-access.html)\n",
    "1. [Amazon SageMaker Notebook Instance](https://docs.aws.amazon.com/sagemaker/latest/dg/howitworks-create-ws.html) or [Amazon SageMaker AI](https://docs.aws.amazon.com/sagemaker/latest/dg/gs.html) or [Amazon SageMaker Unified Studio](https://docs.aws.amazon.com/sagemaker-unified-studio/latest/userguide/getting-started.html)"
   ]
  },
  {
   "cell_type": "markdown",
   "id": "7250d365-c951-400b-b6ee-2a0d0a1a340f",
   "metadata": {},
   "source": [
    "### Install Requirements"
   ]
  },
  {
   "cell_type": "code",
   "execution_count": null,
   "id": "345dd771-2b6e-4684-95f7-8f0bb657cb4b",
   "metadata": {
    "tags": []
   },
   "outputs": [],
   "source": [
    "%pip install -Uq pip\n",
    "%pip install -Uq boto3\n",
    "\n",
    "import IPython\n",
    "\n",
    "IPython.Application.instance().kernel.do_shutdown(True)"
   ]
  },
  {
   "cell_type": "markdown",
   "id": "aad0dc8a-f2fa-48d0-883f-336fa96557c1",
   "metadata": {},
   "source": [
    "### Import Packages"
   ]
  },
  {
   "cell_type": "code",
   "execution_count": null,
   "id": "5d674cb2-1fa7-4885-827a-2cf370f09f24",
   "metadata": {
    "tags": []
   },
   "outputs": [],
   "source": [
    "import boto3\n",
    "import base64\n",
    "import sagemaker\n",
    "import json\n",
    "from IPython.display import Image, display"
   ]
  },
  {
   "cell_type": "markdown",
   "id": "80ac2200-6e38-440e-b258-5a4c971ca6c7",
   "metadata": {},
   "source": [
    "### SageMaker Session\n"
   ]
  },
  {
   "cell_type": "code",
   "execution_count": null,
   "id": "6403aa6f-9e27-4bb7-8442-6d2996523789",
   "metadata": {
    "tags": []
   },
   "outputs": [],
   "source": [
    "session = boto3.session.Session()\n",
    "sagemaker_role = sagemaker.get_execution_role()\n",
    "region = session.region_name\n",
    "\n",
    "print(f'SageMaker Role: {sagemaker_role}')\n",
    "print(f'Region: {region}')\n",
    "print(f'Amazon Bedrock model access page: https://{region}.console.aws.amazon.com/bedrock/home?region={region}#/modelaccess')"
   ]
  },
  {
   "cell_type": "markdown",
   "id": "f966e05d-2ddb-4897-9a0c-e508ea0cedbe",
   "metadata": {},
   "source": [
    "### Stability AI Models and Stability AI Image Services on Bedrock"
   ]
  },
  {
   "cell_type": "code",
   "execution_count": null,
   "id": "89086033-7517-4c42-b050-3bb45a188445",
   "metadata": {
    "execution": {
     "iopub.execute_input": "2025-09-03T17:21:25.452676Z",
     "iopub.status.busy": "2025-09-03T17:21:25.452415Z",
     "iopub.status.idle": "2025-09-03T17:21:25.457108Z",
     "shell.execute_reply": "2025-09-03T17:21:25.456238Z",
     "shell.execute_reply.started": "2025-09-03T17:21:25.452657Z"
    },
    "tags": []
   },
   "outputs": [],
   "source": [
    "# Generate\n",
    "sd_3_5_model_id = 'stability.sd3-5-large-v1:0'\n",
    "stable_core_model_id = 'stability.stable-image-core-v1:1'\n",
    "stable_ultra_model_id = 'stability.stable-image-ultra-v1:1'\n",
    "\n",
    "# Edit\n",
    "stable_image_erase_object = 'us.stability.stable-image-erase-object-v1:0'\n",
    "stable_image_inpaint = 'us.stability.stable-image-inpaint-v1:0'\n",
    "stable_image_search_replace = 'us.stability.stable-image-search-replace-v1:0'\n",
    "stable_image_search_recolor = 'us.stability.stable-image-search-recolor-v1:0'\n",
    "stable_image_remove_bg = 'us.stability.stable-image-remove-background-v1:0'\n",
    "\n",
    "# Control\n",
    "stable_image_control_structure = 'us.stability.stable-image-control-structure-v1:0'\n",
    "stable_image_control_sketch = 'us.stability.stable-image-control-sketch-v1:0'\n",
    "stable_image_style_guide = 'us.stability.stable-image-style-guide-v1:0'\n",
    "stable_image_style_transfer = 'us.stability.stable-style-transfer-v1:0'"
   ]
  },
  {
   "cell_type": "markdown",
   "id": "793d5cb3-8a5c-4129-b630-73cde97cb096",
   "metadata": {},
   "source": [
    "### Python functions"
   ]
  },
  {
   "cell_type": "code",
   "execution_count": null,
   "id": "fe4579cf-afad-428b-a85e-3260a69fb372",
   "metadata": {
    "execution": {
     "iopub.execute_input": "2025-09-03T17:21:30.019716Z",
     "iopub.status.busy": "2025-09-03T17:21:30.019438Z",
     "iopub.status.idle": "2025-09-03T17:21:30.026370Z",
     "shell.execute_reply": "2025-09-03T17:21:30.025203Z",
     "shell.execute_reply.started": "2025-09-03T17:21:30.019693Z"
    }
   },
   "outputs": [],
   "source": [
    "def send_generation_request(params, model_id, region, files=None):\n",
    "    \"\"\"\n",
    "    Send an image generation request to Amazon Bedrock.\n",
    "\n",
    "    Args:\n",
    "        params (dict): Parameters to send to the model.\n",
    "        model_id (str): The Bedrock model ID.\n",
    "        bedrock_client: The initialized boto3 Bedrock client.\n",
    "\n",
    "    Returns:\n",
    "        bytes: Decoded image data.\n",
    "\n",
    "    Raises:\n",
    "        Exception: If no image data is returned or another error occurs.\n",
    "    \"\"\"\n",
    "    \n",
    "    try:\n",
    "        bedrock = boto3.client(\"bedrock-runtime\", region_name=region)\n",
    "\n",
    "        request_body = json.dumps(params)\n",
    "        response = bedrock.invoke_model(modelId=model_id, body=request_body)\n",
    "        model_response = json.loads(response[\"body\"].read())\n",
    "        base64_image_data = model_response.get(\"images\", [None])[0]\n",
    "\n",
    "        if not base64_image_data:\n",
    "            raise ValueError(\"No image data found in model response.\")\n",
    "\n",
    "        return base64.b64decode(base64_image_data)\n",
    "\n",
    "    except Exception as e:\n",
    "        print(f\"Error during image generation: {e}\")\n",
    "        raise"
   ]
  },
  {
   "cell_type": "code",
   "execution_count": null,
   "id": "7cc567c0-eef1-43b9-ad78-f553f14e0491",
   "metadata": {
    "execution": {
     "iopub.execute_input": "2025-09-03T17:21:43.806209Z",
     "iopub.status.busy": "2025-09-03T17:21:43.805932Z",
     "iopub.status.idle": "2025-09-03T17:21:43.810147Z",
     "shell.execute_reply": "2025-09-03T17:21:43.809558Z",
     "shell.execute_reply.started": "2025-09-03T17:21:43.806187Z"
    }
   },
   "outputs": [],
   "source": [
    "def create_base64_from_image(image_path):\n",
    "    \"\"\"\n",
    "    Encodes an image file as a base64 string.\n",
    "\n",
    "    Args:\n",
    "        image_path (str): Path to the image file.\n",
    "\n",
    "    Returns:\n",
    "        str: Base64-encoded string representation of the image.\n",
    "\n",
    "    Raises:\n",
    "        Exception: If the file can't be read or encoded.\n",
    "    \"\"\"\n",
    "    \n",
    "    try:\n",
    "        with open(image_path, \"rb\") as image_file:\n",
    "            return base64.b64encode(image_file.read()).decode(\"utf-8\")\n",
    "        \n",
    "    except Exception as e:\n",
    "        print(f\"Error encoding image to base64: {e}\")\n",
    "        raise"
   ]
  },
  {
   "cell_type": "markdown",
   "id": "a2c13ab1-c437-407a-a58b-876382a2ec10",
   "metadata": {},
   "source": [
    "# Generation"
   ]
  },
  {
   "cell_type": "markdown",
   "id": "e0dcdee4-bf8d-4940-a253-556fe358610f",
   "metadata": {},
   "source": [
    "### Stable Image Ultra"
   ]
  },
  {
   "cell_type": "code",
   "execution_count": null,
   "id": "9bacf229-665e-46cc-97a0-451009b806c5",
   "metadata": {
    "scrolled": true
   },
   "outputs": [],
   "source": [
    "# Stable Image Ultra\n",
    "\n",
    "prompt = \"dark high contrast render of a psychedelic tree of life illuminating dust in a mystical cave.\" # required {type:\"string\"}\n",
    "negative_prompt = \"\" # {type:\"string\"}\n",
    "aspect_ratio = \"3:2\" # [\"21:9\", \"16:9\", \"3:2\", \"5:4\", \"1:1\", \"4:5\", \"2:3\", \"9:16\", \"9:21\"]\n",
    "seed = 0 # {type:\"integer\"}\n",
    "style_preset = \"None\" # [\"None\", \"3d-model\", \"analog-film\", \"anime\", \"cinematic\", \"comic-book\", \"digital-art\", \"enhance\", \"fantasy-art\", \"isometric\", \"line-art\", \"low-poly\", \"modeling-compound\", \"neon-punk\", \"origami\", \"photographic\", \"pixel-art\", \"tile-texture\"]\n",
    "output_format = \"jpeg\" # [\"webp\", \"jpeg\", \"png\"]\n",
    "image = \"\" # {type:\"string<binary>\"}\n",
    "strength = 0 # [0..1]\n",
    "\n",
    "model_id = stable_ultra_model_id\n",
    "region = \"us-west-2\"\n",
    "\n",
    "try:\n",
    "    params = {\n",
    "        \"prompt\": prompt,\n",
    "        \"negative_prompt\": negative_prompt,\n",
    "        \"aspect_ratio\": aspect_ratio,\n",
    "        \"seed\": seed,\n",
    "        \"output_format\": output_format\n",
    "    }\n",
    "\n",
    "    if style_preset != \"None\":\n",
    "        params[\"style_preset\"] = style_preset\n",
    "\n",
    "    generated_image = send_generation_request(params, model_id, region)\n",
    "\n",
    "    display(Image(data=generated_image))\n",
    "\n",
    "except Exception as e:\n",
    "    print(e)"
   ]
  },
  {
   "cell_type": "markdown",
   "id": "8e961c25-03c2-4617-86bf-fc7c1d2ebed1",
   "metadata": {},
   "source": [
    "### Stable Image Core"
   ]
  },
  {
   "cell_type": "code",
   "execution_count": null,
   "id": "7f9dd204-d800-4565-a4c4-e6a90f9f63a4",
   "metadata": {
    "scrolled": true
   },
   "outputs": [],
   "source": [
    "# Stable Image Core\n",
    "\n",
    "prompt = \"op art cat illusion red blue chromostereopsis maximum saturation\"  # required {type:\"string\"}\n",
    "negative_prompt = \"\"  # {type:\"string\"}\n",
    "aspect_ratio = \"21:9\"  # [\"21:9\", \"16:9\", \"3:2\", \"5:4\", \"1:1\", \"4:5\", \"2:3\", \"9:16\", \"9:21\"]\n",
    "style_preset = \"None\"  # [\"None\", \"3d-model\", \"analog-film\", \"anime\", \"cinematic\", \"comic-book\", \"digital-art\", \"enhance\", \"fantasy-art\", \"isometric\", \"line-art\", \"low-poly\", \"modeling-compound\", \"neon-punk\", \"origami\", \"photographic\", \"pixel-art\", \"tile-texture\"]\n",
    "seed = 0  # [0 .. 4294967294]\n",
    "output_format = \"jpeg\"  # [\"webp\", \"jpeg\", \"png\"]\n",
    "\n",
    "model_id = stable_core_model_id\n",
    "region = \"us-west-2\"\n",
    "\n",
    "try:\n",
    "    params = {\n",
    "        \"prompt\": prompt,\n",
    "        \"negative_prompt\": negative_prompt,\n",
    "        \"aspect_ratio\": aspect_ratio,\n",
    "        \"seed\": seed,\n",
    "        \"output_format\": output_format\n",
    "    }\n",
    "\n",
    "    if style_preset != \"None\":\n",
    "        params[\"style_preset\"] = style_preset\n",
    "\n",
    "    generated_image = send_generation_request(params, model_id, region)\n",
    "\n",
    "    display(Image(data=generated_image))\n",
    "\n",
    "except Exception as e:\n",
    "    print(e)"
   ]
  },
  {
   "cell_type": "markdown",
   "id": "d82fecda-fb76-49fd-9ec9-ff6c69b39b13",
   "metadata": {},
   "source": [
    "### Stable Diffusion 3.5"
   ]
  },
  {
   "cell_type": "code",
   "execution_count": null,
   "id": "bbf08f73-c811-426f-80db-256944312e1f",
   "metadata": {
    "execution": {
     "iopub.execute_input": "2025-08-25T21:50:35.247227Z",
     "iopub.status.busy": "2025-08-25T21:50:35.246639Z",
     "iopub.status.idle": "2025-08-25T21:50:41.442874Z",
     "shell.execute_reply": "2025-08-25T21:50:41.442082Z",
     "shell.execute_reply.started": "2025-08-25T21:50:35.247195Z"
    }
   },
   "outputs": [],
   "source": [
    "# Stable Diffusion 3.5\n",
    "\n",
    "prompt = \"cinematic film still, action photo of a cat riding a skateboard through the leaves in autumn. the cat has a mouse friend resting on their head\"  # required {type:\"string\"}\n",
    "negative_prompt = \"\"  # {type:\"string\"}\n",
    "aspect_ratio = \"1:1\"  # [\"21:9\", \"16:9\", \"3:2\", \"5:4\", \"1:1\", \"4:5\", \"2:3\", \"9:16\", \"9:21\"]\n",
    "seed = 0  # {type:\"integer\"}\n",
    "output_format = \"jpeg\"  # [\"jpeg\", \"png\"]\n",
    "style_preset = \"None\"  # [\"None\",\"3d-model\", \"analog-film\", \"anime\", \"cinematic\", \"comic-book\", \"digital-art\", \"enhance\", \"fantasy-art\", \"isometric\", \"line-art\", \"low-poly\", \"modeling-compound\", \"neon-punk\", \"origami\", \"photographic\", \"pixel-art\", \"tile-texture\"]\n",
    "strength = 1  # [0-1]\n",
    "mode = \"text-to-image\"  # [\"text-to-image\", \"image-to-image\"]\n",
    "\n",
    "model_id = sd_3_5_model_id\n",
    "region = \"us-west-2\"\n",
    "\n",
    "try:\n",
    "    params = {\n",
    "        \"prompt\": prompt,\n",
    "        \"negative_prompt\": negative_prompt,\n",
    "        \"aspect_ratio\": aspect_ratio,\n",
    "        \"seed\": seed,\n",
    "        \"output_format\": output_format,\n",
    "        \"mode\": mode,\n",
    "        \"strength\": strength\n",
    "    }\n",
    "\n",
    "    if style_preset != \"None\":\n",
    "        params[\"style_preset\"] = style_preset\n",
    "\n",
    "    generated_image = send_generation_request(params, model_id, region)\n",
    "\n",
    "    display(Image(data=generated_image))\n",
    "\n",
    "except Exception as e:\n",
    "    print(e)"
   ]
  },
  {
   "cell_type": "markdown",
   "id": "e3942d4e-184f-40c4-99f6-1310e170ea2c",
   "metadata": {},
   "source": [
    "# Control Image Services"
   ]
  },
  {
   "cell_type": "markdown",
   "id": "7b5339c9-de2e-41a4-9404-56afafeaed5a",
   "metadata": {},
   "source": [
    "\n",
    "Stability AI Image Services include four Control Image offerings:\n",
    "\n",
    "- Sketch: This service offers an ideal solution for design projects that require brainstorming and frequent iterations. It upgrades rough hand-drawn sketches to refined outputs with precise control. For non-sketch images, it allows detailed manipulation of the final appearance by leveraging the contour lines and edges within the image.\n",
    "- Structure: This service excels in generating images by maintaining the structure of an input image, making it especially valuable for advanced content creation scenarios such as recreating scenes or rendering characters from models.\n",
    "- Style Guide: This service extracts stylistic elements from an input image (control image) and uses it to guide the creation of an output image based on the prompt. The result is a new image in the same style as the control image.\n",
    "- Style Transfer: Apply visual styles from a reference image to a target image to maintain consistency across content."
   ]
  },
  {
   "cell_type": "markdown",
   "id": "cecfb009-8d3c-48de-a050-98cd0564af38",
   "metadata": {},
   "source": [
    "### Stable Image Sketch"
   ]
  },
  {
   "cell_type": "code",
   "execution_count": null,
   "id": "9e6e036f-495c-44dd-aa84-224f72ab2db7",
   "metadata": {
    "execution": {
     "iopub.execute_input": "2025-09-03T17:30:36.107613Z",
     "iopub.status.busy": "2025-09-03T17:30:36.107260Z",
     "iopub.status.idle": "2025-09-03T17:30:47.045852Z",
     "shell.execute_reply": "2025-09-03T17:30:47.044916Z",
     "shell.execute_reply.started": "2025-09-03T17:30:36.107589Z"
    }
   },
   "outputs": [],
   "source": [
    "# Stable Image Sketch\n",
    "\n",
    "image = \"./content/sketch reference.png\"  # required {type:\"string\"}\n",
    "prompt = \"a house with background of mountains and a river flowing nearby\"  # required {type:\"string<binary>\"}\n",
    "negative_prompt = \"\"  # {type:\"string\"}\n",
    "control_strength = 1  # {type:\"slider\", min:0, max:1, step:0.05}\n",
    "seed = 0  # {type:\"integer\"}\n",
    "output_format = \"jpeg\"  # [\"webp\", \"jpeg\", \"png\"]\n",
    "style_preset = \"None\"  # [\"3d-model\", \"analog-film\", \"anime\", \"cinematic\", \"comic-book\", \"digital-art\", \"enhance\", \"fantasy-art\", \"isometric\", \"line-art\", \"low-poly\", \"modeling-compound\", \"neon-punk\", \"origami\", \"photographic\", \"pixel-art\", \"tile-texture\"]\n",
    "\n",
    "model_id = stable_image_control_sketch\n",
    "\n",
    "try:\n",
    "    image_base64 = create_base64_from_image(image)\n",
    "\n",
    "    params = {\n",
    "        \"control_strength\": control_strength,\n",
    "        \"image\": image_base64,\n",
    "        \"seed\": seed,\n",
    "        \"output_format\": output_format,\n",
    "        \"prompt\": prompt\n",
    "    }\n",
    "\n",
    "    if style_preset != \"None\":\n",
    "        params[\"style_preset\"] = style_preset\n",
    "\n",
    "    generated_image = send_generation_request(params, model_id, region)\n",
    "\n",
    "    print(\"Original Image:\")\n",
    "    display(Image(image))\n",
    "\n",
    "    print(\"Result Image:\")\n",
    "    display(Image(data=generated_image))\n",
    "\n",
    "except Exception as e:\n",
    "    print(e)"
   ]
  },
  {
   "cell_type": "markdown",
   "id": "3c90408c-2664-4221-ac8c-49536e59ef02",
   "metadata": {},
   "source": [
    "### Stable Image Structure "
   ]
  },
  {
   "cell_type": "code",
   "execution_count": null,
   "id": "a593794c-1d26-41c1-a717-9f385cac95f0",
   "metadata": {},
   "outputs": [],
   "source": [
    "# Stable Image Structure\n",
    "\n",
    "image = \"./content/structure reference.jpg\"  # required {type:\"string\"}\n",
    "prompt = \"surreal structure with motion generated sparks lighting the scene\"  # required {type:\"string\"}\n",
    "negative_prompt = \"\"  # {type:\"string\"}\n",
    "control_strength = 0.7   # {type:\"slider\", min:0, max:1, step:0.05}\n",
    "seed = 0  # [0 .. 4294967294]\n",
    "output_format = \"jpeg\"  # [\"webp\", \"jpeg\", \"png\"]\n",
    "style_preset = \"None\"  # [\"3d-model\", \"analog-film\", \"anime\", \"cinematic\", \"comic-book\", \"digital-art\", \"enhance\", \"fantasy-art\", \"isometric\", \"line-art\", \"low-poly\", \"modeling-compound\", \"neon-punk\", \"origami\", \"photographic\", \"pixel-art\", \"tile-texture\"]\n",
    "\n",
    "model_id = stable_image_control_structure\n",
    "\n",
    "try:\n",
    "    image_base64 = create_base64_from_image(image)\n",
    "\n",
    "    params = {\n",
    "        \"control_strength\": control_strength,\n",
    "        \"image\": image_base64,\n",
    "        \"seed\": seed,\n",
    "        \"output_format\": output_format,\n",
    "        \"prompt\": prompt\n",
    "    }\n",
    "\n",
    "    if style_preset != \"None\":\n",
    "        params[\"style_preset\"] = style_preset\n",
    "\n",
    "    generated_image = send_generation_request(params, model_id, region)\n",
    "\n",
    "    print(\"Original Image:\")\n",
    "    display(Image(image))\n",
    "\n",
    "    print(\"Result Image:\")\n",
    "    display(Image(data=generated_image))\n",
    "\n",
    "except Exception as e:\n",
    "    print(e)"
   ]
  },
  {
   "cell_type": "markdown",
   "id": "ca09654d-b32e-40d7-a58a-3ec2efaecdfd",
   "metadata": {},
   "source": [
    "### Stable Image Style Guide"
   ]
  },
  {
   "cell_type": "code",
   "execution_count": null,
   "id": "99ff9891-d698-4447-8739-ea570d2de1ab",
   "metadata": {},
   "outputs": [],
   "source": [
    "# Stable Image Style Guide\n",
    "\n",
    "image = \"./content/style guide input.jpg\"  # required {type:\"string<binary>\"}\n",
    "prompt = \"Wide shot of a modern metropolis\"  # required {type:\"string\"}\n",
    "negative_prompt = \"\"  # {type:\"string\"}\n",
    "aspect_ratio = \"1:1\"  # [\"21:9\", \"16:9\", \"3:2\", \"5:4\", \"1:1\", \"4:5\", \"2:3\", \"9:16\", \"9:21\"]\n",
    "fidelity = 0.5  # {type:\"slider\", min:0, max:1, step:0.05}\n",
    "seed = 0  # {type:\"integer\"}\n",
    "output_format = \"jpeg\"  # [\"webp\", \"jpeg\", \"png\"]\n",
    "style_preset = \"None\"  # [\"3d-model\", \"analog-film\", \"anime\", \"cinematic\", \"comic-book\", \"digital-art\", \"enhance\", \"fantasy-art\", \"isometric\", \"line-art\", \"low-poly\", \"modeling-compound\", \"neon-punk\", \"origami\", \"photographic\", \"pixel-art\", \"tile-texture\"]\n",
    "\n",
    "\n",
    "model_id = stable_image_style_guide\n",
    "\n",
    "try:\n",
    "    image_base64 = create_base64_from_image(image)\n",
    "\n",
    "    params = {\n",
    "        \"fidelity\": fidelity,\n",
    "        \"image\": image_base64,\n",
    "        \"seed\": seed,\n",
    "        \"output_format\": output_format,\n",
    "        \"prompt\": prompt,\n",
    "        \"aspect_ratio\": aspect_ratio\n",
    "    }\n",
    "\n",
    "    if style_preset != \"None\":\n",
    "        params[\"style_preset\"] = style_preset\n",
    "\n",
    "    generated_image = send_generation_request(params, model_id, region)\n",
    "\n",
    "    print(\"Original Image:\")\n",
    "    display(Image(image))\n",
    "\n",
    "    print(\"Result Image:\")\n",
    "    display(Image(data=generated_image))\n",
    "\n",
    "except Exception as e:\n",
    "    print(e)"
   ]
  },
  {
   "cell_type": "markdown",
   "id": "0130d792-cd1d-4c52-afe2-749c1ddcde5d",
   "metadata": {},
   "source": [
    "### Stable Image Style Transfer"
   ]
  },
  {
   "cell_type": "code",
   "execution_count": null,
   "id": "89db02fb-3a1a-4c16-a4dc-2cf30a16b50f",
   "metadata": {
    "execution": {
     "iopub.execute_input": "2025-09-03T17:38:14.254468Z",
     "iopub.status.busy": "2025-09-03T17:38:14.254157Z",
     "iopub.status.idle": "2025-09-03T17:38:22.894791Z",
     "shell.execute_reply": "2025-09-03T17:38:22.893670Z",
     "shell.execute_reply.started": "2025-09-03T17:38:14.254436Z"
    }
   },
   "outputs": [],
   "source": [
    "# Stable Image Style Transfer \n",
    "\n",
    "init_image = \"./content/style transfer input.jpg\"  # required {type:\"string<binary>\"}\n",
    "style_image = \"./content/style transfer style image.jpg\"  # required {type:\"string<binary>\"}\n",
    "prompt = \"statue\"  # {type:\"string\"}\n",
    "negative_prompt = \"\"  # {type:\"string\"}\n",
    "style_strength = 1.0  # {type:\"slider\", min:0, max:1, step:0.05}\n",
    "composition_fidelity = 0.9  # {type:\"slider\", min:0, max:1, step:0.05}\n",
    "change_strength = 0.9  # {type:\"slider\", min:0.1, max:1, step:0.05}\n",
    "seed = 0  # {type:\"integer\"}\n",
    "output_format = \"jpeg\"  # [\"webp\", \"jpeg\", \"png\"]\n",
    "\n",
    "model_id = stable_image_style_transfer\n",
    "\n",
    "try:\n",
    "    init_image_base64 = create_base64_from_image(init_image)\n",
    "    style_image_base64 = create_base64_from_image(style_image)\n",
    "\n",
    "    params = {\n",
    "        \"change_strength\": change_strength,\n",
    "        \"composition_fidelity\": composition_fidelity,\n",
    "        \"output_format\": output_format,\n",
    "        \"seed\": seed,\n",
    "        \"style_strength\": style_strength,\n",
    "        \"init_image\": init_image_base64,\n",
    "        \"style_image\": style_image_base64,\n",
    "        \"prompt\": prompt\n",
    "    }\n",
    "\n",
    "    generated_image = send_generation_request(params, model_id, \"us-east-1\")\n",
    "\n",
    "    print(\"Original Image:\")\n",
    "    display(Image(init_image))\n",
    "\n",
    "    print(\"Result Image:\")\n",
    "    display(Image(data=generated_image))\n",
    "\n",
    "except Exception as e:\n",
    "    print(e)"
   ]
  },
  {
   "cell_type": "markdown",
   "id": "6c4b15ff-d78e-4af5-b024-8e22804a17e8",
   "metadata": {},
   "source": [
    "# Edit Image Services\n",
    "Stable Image editing services include four offerings currently in production:\n",
    "\n",
    "- Inpaint: where you specify a `mask` (or use the alpha channel of the `image` parameter). The `prompt` is what will be added to the image in the masked area. Regardless of input resolution, the output will be provided at 4mp.\n",
    "- Search-and-Recolor: where you specify what you want to recolor in the input image via `select_prompt`. The `prompt` is what will be added to the image in place of the object from the select_prompt. The resolution of the generated image will match the resolution of the input image.\n",
    "- Search-and-Replace: where you specify what you want to replace in the input image via `search_prompt`. The `prompt` is what will be added to the image in place of the object from the search_prompt. Regardless of input resolution, the output will be provided at 4mp.\n",
    "- Erase: Remove unwanted objects, such as blemishes on portraits or items on desks, using image masks.\n",
    "- Remove Background: Removes the background from an image."
   ]
  },
  {
   "cell_type": "markdown",
   "id": "437f0612-77c9-47c5-ae44-d446349a08fe",
   "metadata": {},
   "source": [
    "### Stable Image Inpaint "
   ]
  },
  {
   "cell_type": "code",
   "execution_count": null,
   "id": "adef6b63-2d17-46d1-b55c-149d1b2dba17",
   "metadata": {
    "execution": {
     "iopub.execute_input": "2025-09-03T17:45:51.035500Z",
     "iopub.status.busy": "2025-09-03T17:45:51.035222Z",
     "iopub.status.idle": "2025-09-03T17:46:06.187305Z",
     "shell.execute_reply": "2025-09-03T17:46:06.186744Z",
     "shell.execute_reply.started": "2025-09-03T17:45:51.035479Z"
    }
   },
   "outputs": [],
   "source": [
    "# Stable Image Inpaint\n",
    "\n",
    "image = \"./content/inpainting input image.png\"  # required {type:\"string<binary>\"}\n",
    "mask = \"./content/inpainting input image with black mask.png\"  # {type:\"string<binary>\"}\n",
    "prompt = \"artificer of time and space\"  # required {type:\"string\"}\n",
    "grow_mask = \"\"  # [0 .. 100]\n",
    "negative_prompt = \"\"  # {type:\"string\"}\n",
    "seed = 0  # {type:\"integer\"}\n",
    "output_format = \"webp\"  # [\"webp\", \"jpeg\", \"png\"]\n",
    "style_preset = \"None\"  # [\"3d-model\", \"analog-film\", \"anime\", \"cinematic\", \"comic-book\", \"digital-art\", \"enhance\", \"fantasy-art\", \"isometric\", \"line-art\", \"low-poly\", \"modeling-compound\", \"neon-punk\", \"origami\", \"photographic\", \"pixel-art\", \"tile-texture\"]\n",
    "\n",
    "model_id = stable_image_inpaint\n",
    "\n",
    "try:\n",
    "    image_base64 = create_base64_from_image(image)\n",
    "    mask_base64 = create_base64_from_image(mask)\n",
    "\n",
    "    params = {\n",
    "        \"image\": image_base64,\n",
    "        \"mask\": mask_base64,\n",
    "        \"seed\": seed,\n",
    "        \"output_format\": output_format,\n",
    "        \"prompt\": prompt\n",
    "    }\n",
    "\n",
    "    if mask is not None:\n",
    "        mask_image_base64 = create_base64_from_image(mask)\n",
    "        params[\"mask\"] = mask_image_base64\n",
    "\n",
    "    generated_image = send_generation_request(params, model_id, region)\n",
    "\n",
    "    print(\"Original Image:\")\n",
    "    display(Image(image))\n",
    "\n",
    "    print(\"Result Image:\")\n",
    "    display(Image(data=generated_image))\n",
    "\n",
    "except Exception as e:\n",
    "    print(e)"
   ]
  },
  {
   "cell_type": "markdown",
   "id": "d8cf1dad-0e0e-46a4-8d7a-e1461091c242",
   "metadata": {},
   "source": [
    "### Stable Image Search and Recolor"
   ]
  },
  {
   "cell_type": "code",
   "execution_count": null,
   "id": "7153a64d-f252-4d1e-b174-975b9ed4b9e9",
   "metadata": {
    "execution": {
     "iopub.execute_input": "2025-09-03T17:50:09.253841Z",
     "iopub.status.busy": "2025-09-03T17:50:09.253546Z",
     "iopub.status.idle": "2025-09-03T17:50:23.335061Z",
     "shell.execute_reply": "2025-09-03T17:50:23.334189Z",
     "shell.execute_reply.started": "2025-09-03T17:50:09.253817Z"
    }
   },
   "outputs": [],
   "source": [
    "# Stable Image Search and Recolor\n",
    "\n",
    "image = \"./content/search and recolor input.png\"  # required {type:\"string<binary>\"}\n",
    "prompt = \"pink jacket\"  # required{type:\"string\"}\n",
    "select_prompt = \"jacket\"  # required{type:\"string\"}\n",
    "negative_prompt = \"\"  # {type:\"string\"}\n",
    "grow_mask = 3  # {type:\"integer\"}\n",
    "seed = 0  # {type:\"integer\"}\n",
    "output_format = \"webp\"  # [\"webp\", \"jpeg\", \"png\"]\n",
    "style_preset = \"None\"  # [\"3d-model\", \"analog-film\", \"anime\", \"cinematic\", \"comic-book\", \"digital-art\", \"enhance\", \"fantasy-art\", \"isometric\", \"line-art\", \"low-poly\", \"modeling-compound\", \"neon-punk\", \"origami\", \"photographic\", \"pixel-art\", \"tile-texture\"]\n",
    "\n",
    "model_id = stable_image_search_recolor\n",
    "\n",
    "try:\n",
    "    image_base64 = create_base64_from_image(image)\n",
    "\n",
    "    params = {\n",
    "        \"image\": image_base64,\n",
    "        \"grow_mask\": grow_mask,\n",
    "        \"seed\": seed,\n",
    "        \"output_format\": output_format,\n",
    "        \"prompt\": prompt,\n",
    "        \"select_prompt\": select_prompt\n",
    "    }\n",
    "\n",
    "    if style_preset != \"None\":\n",
    "        params[\"style_preset\"] = style_preset\n",
    "\n",
    "    generated_image = send_generation_request(params, model_id, region)\n",
    "\n",
    "    print(\"Original Image:\")\n",
    "    display(Image(image))\n",
    "\n",
    "    print(\"Result Image:\")\n",
    "    display(Image(data=generated_image))\n",
    "\n",
    "except Exception as e:\n",
    "    print(e)"
   ]
  },
  {
   "cell_type": "markdown",
   "id": "b8a7ba40-476b-4a01-9626-f4ab5ba3ad2a",
   "metadata": {},
   "source": [
    "### Stable Image Search and Replace"
   ]
  },
  {
   "cell_type": "code",
   "execution_count": null,
   "id": "5c4e05d1-a64d-484d-8a0b-2eb219b854b6",
   "metadata": {},
   "outputs": [],
   "source": [
    "# Stable Image Search and Replace\n",
    "\n",
    "image = \"./content/search and replace input.png\"  # required {type:\"string<binary>\"}\n",
    "prompt = \"jacket\"  # required {type:\"string\"}\n",
    "search_prompt = \"sweater\"  # required {type:\"string\"}\n",
    "negative_prompt = \"\"  # {type:\"string\"}\n",
    "seed = 0  # {type:\"integer\"}\n",
    "output_format = \"webp\"  # [\"webp\", \"jpeg\", \"png\"]\n",
    "grow_mask = 3  # [0 .. 20]\n",
    "style_preset = \"None\"  # [\"3d-model\", \"analog-film\", \"anime\", \"cinematic\", \"comic-book\", \"digital-art\", \"enhance\", \"fantasy-art\", \"isometric\", \"line-art\", \"low-poly\", \"modeling-compound\", \"neon-punk\", \"origami\", \"photographic\", \"pixel-art\", \"tile-texture\"]\n",
    "\n",
    "model_id = stable_image_search_replace\n",
    "\n",
    "try:\n",
    "    image_base64 = create_base64_from_image(image)\n",
    "\n",
    "    params = {\n",
    "        \"image\": image_base64,\n",
    "        \"seed\": seed,\n",
    "        \"output_format\": output_format,\n",
    "        \"prompt\": prompt,\n",
    "        \"search_prompt\": search_prompt,\n",
    "    }\n",
    "\n",
    "    if style_preset != \"None\":\n",
    "        params[\"style_preset\"] = style_preset\n",
    "\n",
    "    generated_image = send_generation_request(params, model_id, region)\n",
    "\n",
    "    print(\"Original Image:\")\n",
    "    display(Image(image))\n",
    "\n",
    "    print(\"Result Image:\")\n",
    "    display(Image(data=generated_image))\n",
    "\n",
    "except Exception as e:\n",
    "    print(e)"
   ]
  },
  {
   "cell_type": "markdown",
   "id": "9ea2c6b6-f8b7-4b9b-b95a-1292f1d77472",
   "metadata": {},
   "source": [
    "### Stable Image Erase"
   ]
  },
  {
   "cell_type": "code",
   "execution_count": null,
   "id": "50530fd7-f7b7-411f-b3bb-ad3e5b97a192",
   "metadata": {},
   "outputs": [],
   "source": [
    "# Stable Image Erase\n",
    "\n",
    "image = \"./content/erase input desk.png\"  # {type:\"string<binary>\"}\n",
    "mask = \"./content/erase desk pencil mask.png\"  # {type:\"string<binary>\"}\n",
    "seed = 0  # {type:\"integer\"}\n",
    "output_format = \"webp\"  # [\"webp\", \"jpeg\", \"png\"]\n",
    "grow_mask = 3  # [0 .. 20]\n",
    "\n",
    "model_id = stable_image_erase_object\n",
    "\n",
    "try:\n",
    "    image_base64 = create_base64_from_image(image)\n",
    "    mask_base64 = create_base64_from_image(mask)\n",
    "\n",
    "    params = {\n",
    "        \"image\": image_base64,\n",
    "        \"mask\": mask_base64,\n",
    "        \"output_format\": output_format,\n",
    "        \"seed\": seed\n",
    "    }\n",
    "\n",
    "    if mask is not None:\n",
    "        mask_image_base64 = create_base64_from_image(mask)\n",
    "        params[\"mask\"] = mask_image_base64\n",
    "\n",
    "    generated_image = send_generation_request(params, model_id, region)\n",
    "\n",
    "    print(\"Original Image:\")\n",
    "    display(Image(image))\n",
    "\n",
    "    print(\"Result Image:\")\n",
    "    display(Image(data=generated_image))\n",
    "\n",
    "except Exception as e:\n",
    "    print(e)"
   ]
  },
  {
   "cell_type": "markdown",
   "id": "a7650290-625d-4285-a5f8-3dcc36fad338",
   "metadata": {},
   "source": [
    "### Stable Image Remove Background"
   ]
  },
  {
   "cell_type": "code",
   "execution_count": null,
   "id": "c7d0bed8-888e-4377-b7b6-da8851684deb",
   "metadata": {},
   "outputs": [],
   "source": [
    "# Stable Image Remove Background\n",
    "\n",
    "image = \"./content/remove background input.png\"  # required {type:\"string<binary>\"}\n",
    "output_format = \"webp\"  # [\"webp\", \"jpeg\", \"png\"]\n",
    "\n",
    "model_id = stable_image_remove_bg\n",
    "\n",
    "try:\n",
    "    image_base64 = create_base64_from_image(image)\n",
    "\n",
    "    params = {\n",
    "        \"image\": image_base64,\n",
    "        \"output_format\": output_format\n",
    "    }\n",
    "\n",
    "    generated_image = send_generation_request(params, model_id, region)\n",
    "\n",
    "    print(\"Original Image:\")\n",
    "    display(Image(image))\n",
    "\n",
    "    print(\"Result Image:\")\n",
    "    display(Image(data=generated_image))\n",
    "\n",
    "except Exception as e:\n",
    "    print(e)"
   ]
  }
 ],
 "metadata": {
  "kernelspec": {
   "display_name": "Python 3 (ipykernel)",
   "language": "python",
   "name": "python3"
  },
  "language_info": {
   "codemirror_mode": {
    "name": "ipython",
    "version": 3
   },
   "file_extension": ".py",
   "mimetype": "text/x-python",
   "name": "python",
   "nbconvert_exporter": "python",
   "pygments_lexer": "ipython3",
   "version": "3.12.9"
  }
 },
 "nbformat": 4,
 "nbformat_minor": 5
}
